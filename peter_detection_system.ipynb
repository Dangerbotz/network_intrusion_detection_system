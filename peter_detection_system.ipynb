{
 "cells": [
  {
   "cell_type": "markdown",
   "metadata": {},
   "source": [
    "# Lab 1"
   ]
  },
  {
   "cell_type": "markdown",
   "metadata": {},
   "source": [
    "# Business Understanding"
   ]
  },
  {
   "cell_type": "markdown",
   "metadata": {
    "collapsed": true
   },
   "source": [
    "### Describe the purpose of the data set you selected \n",
    "- *Why was this data collected in the first place?* - The data set selected is the \"UNSW_NB15\" network traffic data set. The data set was created to evalutate Network Intrusion Detection Systems (NIDS). According to the creators of the data set, N. Moustafa and J. Slay from the Australian Defence Force Academy, the \"quality of a NIDS data set reflects two important characteristics: comprehensive reflection of contemporary threats and an inclusive normal range of traffic [1].\" Before this data set was generated, they argued that existing data sets used to train and test NIDS were not representative of current traffic flows and threats.\n",
    "- Describe how you would define and measure the outcomes from the dataset. That is: \n",
    "    - *Why is this data important?* - The importance of this data set is that it will allow NIDS to be evaluted better, which will increase their performance, increase their protective power and reduce the chance of false positives and false negatives.\n",
    "    - *How do you know if you have mined useful knowledge from the dataset?* - We will know we mined useful knowledge from the data set if we can determine, based on a collection of packets of traffic data, whether the features of those packets indicate an attack or just normal traffic.\n",
    "    - *How would you measure the effectiveness of a good prediction algorithm? Be specific.* Finding a model that predicts from the network traffic whether an attack is occuring or not, and, if there is an attack, which category of attack if occuring, will measure the effectiveness of the model. Determining if an attack is occuring is the basis of the model and with refinement, we will try to search for categorizing the attack."
   ]
  },
  {
   "cell_type": "markdown",
   "metadata": {},
   "source": [
    "# Data Understanding"
   ]
  },
  {
   "cell_type": "code",
   "execution_count": 5,
   "metadata": {
    "collapsed": false
   },
   "outputs": [
    {
     "name": "stderr",
     "output_type": "stream",
     "text": [
      "C:\\Anaconda\\lib\\site-packages\\matplotlib\\__init__.py:872: UserWarning: axes.color_cycle is deprecated and replaced with axes.prop_cycle; please use the latter.\n",
      "  warnings.warn(self.msg_depr % (key, alt_key))\n"
     ]
    }
   ],
   "source": [
    "# Imports\n",
    "from pandas.tools.plotting import scatter_matrix\n",
    "import pandas as pd\n",
    "import numpy  as np\n",
    "import seaborn as sns\n",
    "import matplotlib.pyplot as plt\n",
    "import warnings\n",
    "import sys\n",
    "\n",
    "warnings.simplefilter('ignore', DeprecationWarning)\n",
    "pd.set_option('display.max_columns', None)    # set the max columns to show to unlimited\n",
    "\n",
    "%matplotlib inline"
   ]
  },
  {
   "cell_type": "code",
   "execution_count": 6,
   "metadata": {
    "collapsed": false
   },
   "outputs": [
    {
     "name": "stdout",
     "output_type": "stream",
     "text": [
      "Python version 2.7.12 |Anaconda 2.3.0 (64-bit)| (default, Jun 29 2016, 11:07:13) [MSC v.1500 64 bit (AMD64)]\n",
      "Pandas version 0.17.1\n"
     ]
    }
   ],
   "source": [
    "print('Python version ' + sys.version)\n",
    "print('Pandas version ' + pd.__version__)"
   ]
  },
  {
   "cell_type": "code",
   "execution_count": 7,
   "metadata": {
    "collapsed": false
   },
   "outputs": [],
   "source": [
    "# Load UNSW_NB15 into a Pandas dataframe\n",
    "# ref: http://stackoverflow.com/questions/18664712/split-function-add-xef-xbb-xbf-n-to-my-list (2 get rid of UTF-8 BOM)\n",
    "df = pd.read_csv('UNSW_NB15_training_set.csv', encoding='utf-8-sig')  # specifing encoding to get rid of the UTF- Byte order Mark (BOM) in the id field"
   ]
  },
  {
   "cell_type": "markdown",
   "metadata": {},
   "source": [
    "### Describe the meaning and type of data (scale, values, etc.) for each attribute in the data file."
   ]
  },
  {
   "cell_type": "markdown",
   "metadata": {},
   "source": [
    "## UNSW_NB15_training_set\n",
    "- A Network Intrusion Data Set.\n",
    "    - 82332 rows x 45 columns\n",
    "        - **id** *int* The id of the record\n",
    "        - **dur** *float* Record's total duration\n",
    "        - **proto** *Nominal* Tranaction Protocol\n",
    "        - **service** *Nominal* http, ftp, ssh, dns, ..., else(-)\n",
    "        - **state** *Nominal* The state and its dependent protocol e.g. ACC, CLO, FIN, INT, ..., else (-)\n",
    "\t\t- **spkts** *int* Source to destination packet count\n",
    "\t\t- **dpkts** *int* Destination to source packet count \n",
    "\t\t- **sbytes** *int* Source to destination bytes\n",
    "\t\t- **dbytes** *int* Destination to source bytes\n",
    "\t\t- **rate** *float* \n",
    "\t\t- **sttl** *int* Source to destination bytes\n",
    "\t\t- **dttl** *int* Destination to source time to live\n",
    "\t\t- **sload** *float* Source bits per second\n",
    "\t\t- **dload** *float* Destination bits per second\n",
    "\t\t- **sloss** *int* Source packets retransmitted or dropped\n",
    "\t\t- **dloss** *int* Destination packets retransmitted or dropped\n",
    "\t\t- **sinpkt** *float* Source inter-packet arrival time(mSec)\n",
    "\t\t- **dinpkt** *float* Destination inetr-packet arrival time(mSec)\n",
    "\t\t- **sjit** *float* Source jitter (mSec)\n",
    "\t\t- **djit** *float* Destination jitter(mSec)\n",
    "\t\t- **swin** *int* Source TCP window advertisment\n",
    "\t\t- **stcpb** *int* Source TCP sequence number\n",
    "\t\t- **dtcpb** *int* Destination TCP sequence number\n",
    "\t\t- **dwin** *int* Destination TCP window advertisment\n",
    "\t\t- **tcprtt** *float* The sum of 'synack' and 'ackdat' of the TCP\n",
    "\t\t- **synack** *float* The time between the SYN and the SYN_ACK packets of the TCP\n",
    "\t\t- **ackdat** *float* The time between the SYN_ACK and the ACK packets of the TCP\n",
    "\t\t- **smean** *int* Mean of the flow packet size transmitted by the sre\n",
    "\t\t- **dmean** *int* Mean of the flow packet size transmitted by the dst\n",
    "\t\t- **trans_depth** *int* The depth into the connection of the http request/response transaction\n",
    "\t\t- **response_body_len** *int* The content size of the data transferred from the server's http service\n",
    "\t\t- **ct_srv_src** *int* No. of Connection that contain the same service (14) and source address in 100 connections according to the last time\n",
    "\t\t- **ct_state_ttl** *int* No. for each state (6) according to specific range if value for source/destination time to live\n",
    "\t\t- **ct_dst_ltm** *int* No of connectiuon of the same destination address (3) in 100 connections according to the last time\n",
    "\t\t- **ct_src_dport_ltm** *int* No. of connection of the same source address and the destination port in 100 connections according to the last time\n",
    "\t\t- **ct_dst_sport_ltm** *int* No. of connnection of the same destination address(3) and the source port (2) in 100 connection according to the last time (26).\n",
    "\t\t- **ct_dst_src_ltm** *int* No connection of the same cource (1) and the destination (3) address in 100 connection according to the last time (26)\n",
    "\t\t- **is_ftp_login** *int* (binary) If the ftp session is accessed by user and password then 1 else 0\n",
    "\t\t- **ct_ftp_cmd** *int* No. of flows that has a command in ftp session\n",
    "\t\t- **ct_flw_http_mthd** *int* No. of flows that has methof such as Get and Post in http service\n",
    "\t\t- **ct_src_ltm** *int* No of connections of the same source address (1) in 100 connection according to the last time(26).\n",
    "\t\t- **ct_srv_dst** *int* No. of connectio that conbtain the same service and destination address in 100 connection according to the last time\n",
    "\t\t- **is_sm_ips_ports** *int* (binary) If source equals to destination (3) IP addresses and port numbers (2)(4) are equal, this variable takes value 1 else 0\n",
    "\t\t- **attack_cat** *Nominal* The name of each attack category. In this data set, nine categories (e.g. Fuzzers, Analysis, Backdoors, DoS, Exploits, Generic, Reconnaissance, Shellcode and Worms) (Labeled Feature)\n",
    "\t\t- **label** *int* (Binary) 0 for normal and 1 for attack records (Labeled feature)"
   ]
  },
  {
   "cell_type": "code",
   "execution_count": 8,
   "metadata": {
    "collapsed": false
   },
   "outputs": [
    {
     "name": "stdout",
     "output_type": "stream",
     "text": [
      "<class 'pandas.core.frame.DataFrame'>\n",
      "Int64Index: 82332 entries, 0 to 82331\n",
      "Data columns (total 45 columns):\n",
      "id                   82332 non-null int64\n",
      "dur                  82332 non-null float64\n",
      "proto                82332 non-null object\n",
      "service              82332 non-null object\n",
      "state                82332 non-null object\n",
      "spkts                82332 non-null int64\n",
      "dpkts                82332 non-null int64\n",
      "sbytes               82332 non-null int64\n",
      "dbytes               82332 non-null int64\n",
      "rate                 82332 non-null float64\n",
      "sttl                 82332 non-null int64\n",
      "dttl                 82332 non-null int64\n",
      "sload                82332 non-null float64\n",
      "dload                82332 non-null float64\n",
      "sloss                82332 non-null int64\n",
      "dloss                82332 non-null int64\n",
      "sinpkt               82332 non-null float64\n",
      "dinpkt               82332 non-null float64\n",
      "sjit                 82332 non-null float64\n",
      "djit                 82332 non-null float64\n",
      "swin                 82332 non-null int64\n",
      "stcpb                82332 non-null int64\n",
      "dtcpb                82332 non-null int64\n",
      "dwin                 82332 non-null int64\n",
      "tcprtt               82332 non-null float64\n",
      "synack               82332 non-null float64\n",
      "ackdat               82332 non-null float64\n",
      "smean                82332 non-null int64\n",
      "dmean                82332 non-null int64\n",
      "trans_depth          82332 non-null int64\n",
      "response_body_len    82332 non-null int64\n",
      "ct_srv_src           82332 non-null int64\n",
      "ct_state_ttl         82332 non-null int64\n",
      "ct_dst_ltm           82332 non-null int64\n",
      "ct_src_dport_ltm     82332 non-null int64\n",
      "ct_dst_sport_ltm     82332 non-null int64\n",
      "ct_dst_src_ltm       82332 non-null int64\n",
      "is_ftp_login         82332 non-null int64\n",
      "ct_ftp_cmd           82332 non-null int64\n",
      "ct_flw_http_mthd     82332 non-null int64\n",
      "ct_src_ltm           82332 non-null int64\n",
      "ct_srv_dst           82332 non-null int64\n",
      "is_sm_ips_ports      82332 non-null int64\n",
      "attack_cat           82332 non-null object\n",
      "label                82332 non-null int64\n",
      "dtypes: float64(11), int64(30), object(4)\n",
      "memory usage: 28.9+ MB\n"
     ]
    }
   ],
   "source": [
    "df.info()"
   ]
  },
  {
   "cell_type": "markdown",
   "metadata": {},
   "source": [
    "### Verify data quality: Explain any missing values, duplicate data, and outliers.\n",
    "    - Are those mistakes? How do you deal with these problems? Be specific."
   ]
  },
  {
   "cell_type": "code",
   "execution_count": 9,
   "metadata": {
    "collapsed": false
   },
   "outputs": [
    {
     "data": {
      "text/html": [
       "<div>\n",
       "<table border=\"1\" class=\"dataframe\">\n",
       "  <thead>\n",
       "    <tr style=\"text-align: right;\">\n",
       "      <th></th>\n",
       "      <th>id</th>\n",
       "      <th>dur</th>\n",
       "      <th>spkts</th>\n",
       "      <th>dpkts</th>\n",
       "      <th>sbytes</th>\n",
       "      <th>dbytes</th>\n",
       "      <th>rate</th>\n",
       "      <th>sttl</th>\n",
       "      <th>dttl</th>\n",
       "      <th>sload</th>\n",
       "      <th>dload</th>\n",
       "      <th>sloss</th>\n",
       "      <th>dloss</th>\n",
       "      <th>sinpkt</th>\n",
       "      <th>dinpkt</th>\n",
       "      <th>sjit</th>\n",
       "      <th>djit</th>\n",
       "      <th>swin</th>\n",
       "      <th>stcpb</th>\n",
       "      <th>dtcpb</th>\n",
       "      <th>dwin</th>\n",
       "      <th>tcprtt</th>\n",
       "      <th>synack</th>\n",
       "      <th>ackdat</th>\n",
       "      <th>smean</th>\n",
       "      <th>dmean</th>\n",
       "      <th>trans_depth</th>\n",
       "      <th>response_body_len</th>\n",
       "      <th>ct_srv_src</th>\n",
       "      <th>ct_state_ttl</th>\n",
       "      <th>ct_dst_ltm</th>\n",
       "      <th>ct_src_dport_ltm</th>\n",
       "      <th>ct_dst_sport_ltm</th>\n",
       "      <th>ct_dst_src_ltm</th>\n",
       "      <th>is_ftp_login</th>\n",
       "      <th>ct_ftp_cmd</th>\n",
       "      <th>ct_flw_http_mthd</th>\n",
       "      <th>ct_src_ltm</th>\n",
       "      <th>ct_srv_dst</th>\n",
       "      <th>is_sm_ips_ports</th>\n",
       "      <th>label</th>\n",
       "    </tr>\n",
       "  </thead>\n",
       "  <tbody>\n",
       "    <tr>\n",
       "      <th>count</th>\n",
       "      <td>82332.000000</td>\n",
       "      <td>82332.000000</td>\n",
       "      <td>82332.000000</td>\n",
       "      <td>82332.000000</td>\n",
       "      <td>82332.000000</td>\n",
       "      <td>82332.000000</td>\n",
       "      <td>82332.000000</td>\n",
       "      <td>82332.000000</td>\n",
       "      <td>82332.000000</td>\n",
       "      <td>8.233200e+04</td>\n",
       "      <td>82332.000000</td>\n",
       "      <td>82332.000000</td>\n",
       "      <td>82332.000000</td>\n",
       "      <td>82332.000000</td>\n",
       "      <td>82332.000000</td>\n",
       "      <td>82332.000000</td>\n",
       "      <td>82332.000000</td>\n",
       "      <td>82332.00000</td>\n",
       "      <td>8.233200e+04</td>\n",
       "      <td>8.233200e+04</td>\n",
       "      <td>82332.00000</td>\n",
       "      <td>82332.000000</td>\n",
       "      <td>82332.000000</td>\n",
       "      <td>82332.000000</td>\n",
       "      <td>82332.000000</td>\n",
       "      <td>82332.000000</td>\n",
       "      <td>82332.000000</td>\n",
       "      <td>82332.000000</td>\n",
       "      <td>82332.000000</td>\n",
       "      <td>82332.000000</td>\n",
       "      <td>82332.000000</td>\n",
       "      <td>82332.000000</td>\n",
       "      <td>82332.000000</td>\n",
       "      <td>82332.000000</td>\n",
       "      <td>82332.000000</td>\n",
       "      <td>82332.000000</td>\n",
       "      <td>82332.000000</td>\n",
       "      <td>82332.000000</td>\n",
       "      <td>82332.000000</td>\n",
       "      <td>82332.000000</td>\n",
       "      <td>82332.000000</td>\n",
       "    </tr>\n",
       "    <tr>\n",
       "      <th>mean</th>\n",
       "      <td>41166.500000</td>\n",
       "      <td>1.006756</td>\n",
       "      <td>18.666472</td>\n",
       "      <td>17.545936</td>\n",
       "      <td>7993.908165</td>\n",
       "      <td>13233.785563</td>\n",
       "      <td>82410.886739</td>\n",
       "      <td>180.967667</td>\n",
       "      <td>95.713003</td>\n",
       "      <td>6.454902e+07</td>\n",
       "      <td>630546.959000</td>\n",
       "      <td>4.753692</td>\n",
       "      <td>6.308556</td>\n",
       "      <td>755.394301</td>\n",
       "      <td>121.701284</td>\n",
       "      <td>6363.075100</td>\n",
       "      <td>535.180430</td>\n",
       "      <td>133.45908</td>\n",
       "      <td>1.084642e+09</td>\n",
       "      <td>1.073465e+09</td>\n",
       "      <td>128.28662</td>\n",
       "      <td>0.055925</td>\n",
       "      <td>0.029256</td>\n",
       "      <td>0.026669</td>\n",
       "      <td>139.528604</td>\n",
       "      <td>116.275069</td>\n",
       "      <td>0.094277</td>\n",
       "      <td>1595.371885</td>\n",
       "      <td>9.546604</td>\n",
       "      <td>1.369273</td>\n",
       "      <td>5.744923</td>\n",
       "      <td>4.928898</td>\n",
       "      <td>3.663011</td>\n",
       "      <td>7.456360</td>\n",
       "      <td>0.008284</td>\n",
       "      <td>0.008381</td>\n",
       "      <td>0.129743</td>\n",
       "      <td>6.468360</td>\n",
       "      <td>9.164262</td>\n",
       "      <td>0.011126</td>\n",
       "      <td>0.550600</td>\n",
       "    </tr>\n",
       "    <tr>\n",
       "      <th>std</th>\n",
       "      <td>23767.345519</td>\n",
       "      <td>4.710444</td>\n",
       "      <td>133.916353</td>\n",
       "      <td>115.574086</td>\n",
       "      <td>171642.261880</td>\n",
       "      <td>151471.456091</td>\n",
       "      <td>148620.367041</td>\n",
       "      <td>101.513358</td>\n",
       "      <td>116.667722</td>\n",
       "      <td>1.798618e+08</td>\n",
       "      <td>2393000.555646</td>\n",
       "      <td>64.649620</td>\n",
       "      <td>55.708021</td>\n",
       "      <td>6182.615732</td>\n",
       "      <td>1292.378499</td>\n",
       "      <td>56724.016689</td>\n",
       "      <td>3635.305383</td>\n",
       "      <td>127.35700</td>\n",
       "      <td>1.390860e+09</td>\n",
       "      <td>1.381996e+09</td>\n",
       "      <td>127.49137</td>\n",
       "      <td>0.116022</td>\n",
       "      <td>0.070854</td>\n",
       "      <td>0.055094</td>\n",
       "      <td>208.472063</td>\n",
       "      <td>244.600271</td>\n",
       "      <td>0.542922</td>\n",
       "      <td>38066.972292</td>\n",
       "      <td>11.090289</td>\n",
       "      <td>1.067188</td>\n",
       "      <td>8.418112</td>\n",
       "      <td>8.389545</td>\n",
       "      <td>5.915386</td>\n",
       "      <td>11.415191</td>\n",
       "      <td>0.091171</td>\n",
       "      <td>0.092485</td>\n",
       "      <td>0.638683</td>\n",
       "      <td>8.543927</td>\n",
       "      <td>11.121413</td>\n",
       "      <td>0.104891</td>\n",
       "      <td>0.497436</td>\n",
       "    </tr>\n",
       "    <tr>\n",
       "      <th>min</th>\n",
       "      <td>1.000000</td>\n",
       "      <td>0.000000</td>\n",
       "      <td>1.000000</td>\n",
       "      <td>0.000000</td>\n",
       "      <td>24.000000</td>\n",
       "      <td>0.000000</td>\n",
       "      <td>0.000000</td>\n",
       "      <td>0.000000</td>\n",
       "      <td>0.000000</td>\n",
       "      <td>0.000000e+00</td>\n",
       "      <td>0.000000</td>\n",
       "      <td>0.000000</td>\n",
       "      <td>0.000000</td>\n",
       "      <td>0.000000</td>\n",
       "      <td>0.000000</td>\n",
       "      <td>0.000000</td>\n",
       "      <td>0.000000</td>\n",
       "      <td>0.00000</td>\n",
       "      <td>0.000000e+00</td>\n",
       "      <td>0.000000e+00</td>\n",
       "      <td>0.00000</td>\n",
       "      <td>0.000000</td>\n",
       "      <td>0.000000</td>\n",
       "      <td>0.000000</td>\n",
       "      <td>24.000000</td>\n",
       "      <td>0.000000</td>\n",
       "      <td>0.000000</td>\n",
       "      <td>0.000000</td>\n",
       "      <td>1.000000</td>\n",
       "      <td>0.000000</td>\n",
       "      <td>1.000000</td>\n",
       "      <td>1.000000</td>\n",
       "      <td>1.000000</td>\n",
       "      <td>1.000000</td>\n",
       "      <td>0.000000</td>\n",
       "      <td>0.000000</td>\n",
       "      <td>0.000000</td>\n",
       "      <td>1.000000</td>\n",
       "      <td>1.000000</td>\n",
       "      <td>0.000000</td>\n",
       "      <td>0.000000</td>\n",
       "    </tr>\n",
       "    <tr>\n",
       "      <th>25%</th>\n",
       "      <td>20583.750000</td>\n",
       "      <td>0.000008</td>\n",
       "      <td>2.000000</td>\n",
       "      <td>0.000000</td>\n",
       "      <td>114.000000</td>\n",
       "      <td>0.000000</td>\n",
       "      <td>28.606114</td>\n",
       "      <td>62.000000</td>\n",
       "      <td>0.000000</td>\n",
       "      <td>1.120247e+04</td>\n",
       "      <td>0.000000</td>\n",
       "      <td>0.000000</td>\n",
       "      <td>0.000000</td>\n",
       "      <td>0.008000</td>\n",
       "      <td>0.000000</td>\n",
       "      <td>0.000000</td>\n",
       "      <td>0.000000</td>\n",
       "      <td>0.00000</td>\n",
       "      <td>0.000000e+00</td>\n",
       "      <td>0.000000e+00</td>\n",
       "      <td>0.00000</td>\n",
       "      <td>0.000000</td>\n",
       "      <td>0.000000</td>\n",
       "      <td>0.000000</td>\n",
       "      <td>57.000000</td>\n",
       "      <td>0.000000</td>\n",
       "      <td>0.000000</td>\n",
       "      <td>0.000000</td>\n",
       "      <td>2.000000</td>\n",
       "      <td>1.000000</td>\n",
       "      <td>1.000000</td>\n",
       "      <td>1.000000</td>\n",
       "      <td>1.000000</td>\n",
       "      <td>1.000000</td>\n",
       "      <td>0.000000</td>\n",
       "      <td>0.000000</td>\n",
       "      <td>0.000000</td>\n",
       "      <td>1.000000</td>\n",
       "      <td>2.000000</td>\n",
       "      <td>0.000000</td>\n",
       "      <td>0.000000</td>\n",
       "    </tr>\n",
       "    <tr>\n",
       "      <th>50%</th>\n",
       "      <td>41166.500000</td>\n",
       "      <td>0.014138</td>\n",
       "      <td>6.000000</td>\n",
       "      <td>2.000000</td>\n",
       "      <td>534.000000</td>\n",
       "      <td>178.000000</td>\n",
       "      <td>2650.176667</td>\n",
       "      <td>254.000000</td>\n",
       "      <td>29.000000</td>\n",
       "      <td>5.770032e+05</td>\n",
       "      <td>2112.951416</td>\n",
       "      <td>1.000000</td>\n",
       "      <td>0.000000</td>\n",
       "      <td>0.557928</td>\n",
       "      <td>0.010000</td>\n",
       "      <td>17.623919</td>\n",
       "      <td>0.000000</td>\n",
       "      <td>255.00000</td>\n",
       "      <td>2.788886e+07</td>\n",
       "      <td>2.856975e+07</td>\n",
       "      <td>255.00000</td>\n",
       "      <td>0.000551</td>\n",
       "      <td>0.000441</td>\n",
       "      <td>0.000080</td>\n",
       "      <td>65.000000</td>\n",
       "      <td>44.000000</td>\n",
       "      <td>0.000000</td>\n",
       "      <td>0.000000</td>\n",
       "      <td>5.000000</td>\n",
       "      <td>1.000000</td>\n",
       "      <td>2.000000</td>\n",
       "      <td>1.000000</td>\n",
       "      <td>1.000000</td>\n",
       "      <td>3.000000</td>\n",
       "      <td>0.000000</td>\n",
       "      <td>0.000000</td>\n",
       "      <td>0.000000</td>\n",
       "      <td>3.000000</td>\n",
       "      <td>5.000000</td>\n",
       "      <td>0.000000</td>\n",
       "      <td>1.000000</td>\n",
       "    </tr>\n",
       "    <tr>\n",
       "      <th>75%</th>\n",
       "      <td>61749.250000</td>\n",
       "      <td>0.719360</td>\n",
       "      <td>12.000000</td>\n",
       "      <td>10.000000</td>\n",
       "      <td>1280.000000</td>\n",
       "      <td>956.000000</td>\n",
       "      <td>111111.107200</td>\n",
       "      <td>254.000000</td>\n",
       "      <td>252.000000</td>\n",
       "      <td>6.514286e+07</td>\n",
       "      <td>15858.082275</td>\n",
       "      <td>3.000000</td>\n",
       "      <td>2.000000</td>\n",
       "      <td>63.409444</td>\n",
       "      <td>63.136369</td>\n",
       "      <td>3219.332412</td>\n",
       "      <td>128.459914</td>\n",
       "      <td>255.00000</td>\n",
       "      <td>2.171310e+09</td>\n",
       "      <td>2.144205e+09</td>\n",
       "      <td>255.00000</td>\n",
       "      <td>0.105541</td>\n",
       "      <td>0.052595</td>\n",
       "      <td>0.048816</td>\n",
       "      <td>100.000000</td>\n",
       "      <td>87.000000</td>\n",
       "      <td>0.000000</td>\n",
       "      <td>0.000000</td>\n",
       "      <td>11.000000</td>\n",
       "      <td>2.000000</td>\n",
       "      <td>6.000000</td>\n",
       "      <td>4.000000</td>\n",
       "      <td>3.000000</td>\n",
       "      <td>6.000000</td>\n",
       "      <td>0.000000</td>\n",
       "      <td>0.000000</td>\n",
       "      <td>0.000000</td>\n",
       "      <td>7.000000</td>\n",
       "      <td>11.000000</td>\n",
       "      <td>0.000000</td>\n",
       "      <td>1.000000</td>\n",
       "    </tr>\n",
       "    <tr>\n",
       "      <th>max</th>\n",
       "      <td>82332.000000</td>\n",
       "      <td>59.999989</td>\n",
       "      <td>10646.000000</td>\n",
       "      <td>11018.000000</td>\n",
       "      <td>14355774.000000</td>\n",
       "      <td>14657531.000000</td>\n",
       "      <td>1000000.003000</td>\n",
       "      <td>255.000000</td>\n",
       "      <td>253.000000</td>\n",
       "      <td>5.268000e+09</td>\n",
       "      <td>20821108.000000</td>\n",
       "      <td>5319.000000</td>\n",
       "      <td>5507.000000</td>\n",
       "      <td>60009.992000</td>\n",
       "      <td>57739.240000</td>\n",
       "      <td>1483830.917000</td>\n",
       "      <td>463199.240100</td>\n",
       "      <td>255.00000</td>\n",
       "      <td>4.294950e+09</td>\n",
       "      <td>4.294881e+09</td>\n",
       "      <td>255.00000</td>\n",
       "      <td>3.821465</td>\n",
       "      <td>3.226788</td>\n",
       "      <td>2.928778</td>\n",
       "      <td>1504.000000</td>\n",
       "      <td>1500.000000</td>\n",
       "      <td>131.000000</td>\n",
       "      <td>5242880.000000</td>\n",
       "      <td>63.000000</td>\n",
       "      <td>6.000000</td>\n",
       "      <td>59.000000</td>\n",
       "      <td>59.000000</td>\n",
       "      <td>38.000000</td>\n",
       "      <td>63.000000</td>\n",
       "      <td>2.000000</td>\n",
       "      <td>2.000000</td>\n",
       "      <td>16.000000</td>\n",
       "      <td>60.000000</td>\n",
       "      <td>62.000000</td>\n",
       "      <td>1.000000</td>\n",
       "      <td>1.000000</td>\n",
       "    </tr>\n",
       "  </tbody>\n",
       "</table>\n",
       "</div>"
      ],
      "text/plain": [
       "                 id           dur         spkts         dpkts  \\\n",
       "count  82332.000000  82332.000000  82332.000000  82332.000000   \n",
       "mean   41166.500000      1.006756     18.666472     17.545936   \n",
       "std    23767.345519      4.710444    133.916353    115.574086   \n",
       "min        1.000000      0.000000      1.000000      0.000000   \n",
       "25%    20583.750000      0.000008      2.000000      0.000000   \n",
       "50%    41166.500000      0.014138      6.000000      2.000000   \n",
       "75%    61749.250000      0.719360     12.000000     10.000000   \n",
       "max    82332.000000     59.999989  10646.000000  11018.000000   \n",
       "\n",
       "                sbytes           dbytes            rate          sttl  \\\n",
       "count     82332.000000     82332.000000    82332.000000  82332.000000   \n",
       "mean       7993.908165     13233.785563    82410.886739    180.967667   \n",
       "std      171642.261880    151471.456091   148620.367041    101.513358   \n",
       "min          24.000000         0.000000        0.000000      0.000000   \n",
       "25%         114.000000         0.000000       28.606114     62.000000   \n",
       "50%         534.000000       178.000000     2650.176667    254.000000   \n",
       "75%        1280.000000       956.000000   111111.107200    254.000000   \n",
       "max    14355774.000000  14657531.000000  1000000.003000    255.000000   \n",
       "\n",
       "               dttl         sload            dload         sloss  \\\n",
       "count  82332.000000  8.233200e+04     82332.000000  82332.000000   \n",
       "mean      95.713003  6.454902e+07    630546.959000      4.753692   \n",
       "std      116.667722  1.798618e+08   2393000.555646     64.649620   \n",
       "min        0.000000  0.000000e+00         0.000000      0.000000   \n",
       "25%        0.000000  1.120247e+04         0.000000      0.000000   \n",
       "50%       29.000000  5.770032e+05      2112.951416      1.000000   \n",
       "75%      252.000000  6.514286e+07     15858.082275      3.000000   \n",
       "max      253.000000  5.268000e+09  20821108.000000   5319.000000   \n",
       "\n",
       "              dloss        sinpkt        dinpkt            sjit  \\\n",
       "count  82332.000000  82332.000000  82332.000000    82332.000000   \n",
       "mean       6.308556    755.394301    121.701284     6363.075100   \n",
       "std       55.708021   6182.615732   1292.378499    56724.016689   \n",
       "min        0.000000      0.000000      0.000000        0.000000   \n",
       "25%        0.000000      0.008000      0.000000        0.000000   \n",
       "50%        0.000000      0.557928      0.010000       17.623919   \n",
       "75%        2.000000     63.409444     63.136369     3219.332412   \n",
       "max     5507.000000  60009.992000  57739.240000  1483830.917000   \n",
       "\n",
       "                djit         swin         stcpb         dtcpb         dwin  \\\n",
       "count   82332.000000  82332.00000  8.233200e+04  8.233200e+04  82332.00000   \n",
       "mean      535.180430    133.45908  1.084642e+09  1.073465e+09    128.28662   \n",
       "std      3635.305383    127.35700  1.390860e+09  1.381996e+09    127.49137   \n",
       "min         0.000000      0.00000  0.000000e+00  0.000000e+00      0.00000   \n",
       "25%         0.000000      0.00000  0.000000e+00  0.000000e+00      0.00000   \n",
       "50%         0.000000    255.00000  2.788886e+07  2.856975e+07    255.00000   \n",
       "75%       128.459914    255.00000  2.171310e+09  2.144205e+09    255.00000   \n",
       "max    463199.240100    255.00000  4.294950e+09  4.294881e+09    255.00000   \n",
       "\n",
       "             tcprtt        synack        ackdat         smean         dmean  \\\n",
       "count  82332.000000  82332.000000  82332.000000  82332.000000  82332.000000   \n",
       "mean       0.055925      0.029256      0.026669    139.528604    116.275069   \n",
       "std        0.116022      0.070854      0.055094    208.472063    244.600271   \n",
       "min        0.000000      0.000000      0.000000     24.000000      0.000000   \n",
       "25%        0.000000      0.000000      0.000000     57.000000      0.000000   \n",
       "50%        0.000551      0.000441      0.000080     65.000000     44.000000   \n",
       "75%        0.105541      0.052595      0.048816    100.000000     87.000000   \n",
       "max        3.821465      3.226788      2.928778   1504.000000   1500.000000   \n",
       "\n",
       "        trans_depth  response_body_len    ct_srv_src  ct_state_ttl  \\\n",
       "count  82332.000000       82332.000000  82332.000000  82332.000000   \n",
       "mean       0.094277        1595.371885      9.546604      1.369273   \n",
       "std        0.542922       38066.972292     11.090289      1.067188   \n",
       "min        0.000000           0.000000      1.000000      0.000000   \n",
       "25%        0.000000           0.000000      2.000000      1.000000   \n",
       "50%        0.000000           0.000000      5.000000      1.000000   \n",
       "75%        0.000000           0.000000     11.000000      2.000000   \n",
       "max      131.000000     5242880.000000     63.000000      6.000000   \n",
       "\n",
       "         ct_dst_ltm  ct_src_dport_ltm  ct_dst_sport_ltm  ct_dst_src_ltm  \\\n",
       "count  82332.000000      82332.000000      82332.000000    82332.000000   \n",
       "mean       5.744923          4.928898          3.663011        7.456360   \n",
       "std        8.418112          8.389545          5.915386       11.415191   \n",
       "min        1.000000          1.000000          1.000000        1.000000   \n",
       "25%        1.000000          1.000000          1.000000        1.000000   \n",
       "50%        2.000000          1.000000          1.000000        3.000000   \n",
       "75%        6.000000          4.000000          3.000000        6.000000   \n",
       "max       59.000000         59.000000         38.000000       63.000000   \n",
       "\n",
       "       is_ftp_login    ct_ftp_cmd  ct_flw_http_mthd    ct_src_ltm  \\\n",
       "count  82332.000000  82332.000000      82332.000000  82332.000000   \n",
       "mean       0.008284      0.008381          0.129743      6.468360   \n",
       "std        0.091171      0.092485          0.638683      8.543927   \n",
       "min        0.000000      0.000000          0.000000      1.000000   \n",
       "25%        0.000000      0.000000          0.000000      1.000000   \n",
       "50%        0.000000      0.000000          0.000000      3.000000   \n",
       "75%        0.000000      0.000000          0.000000      7.000000   \n",
       "max        2.000000      2.000000         16.000000     60.000000   \n",
       "\n",
       "         ct_srv_dst  is_sm_ips_ports         label  \n",
       "count  82332.000000     82332.000000  82332.000000  \n",
       "mean       9.164262         0.011126      0.550600  \n",
       "std       11.121413         0.104891      0.497436  \n",
       "min        1.000000         0.000000      0.000000  \n",
       "25%        2.000000         0.000000      0.000000  \n",
       "50%        5.000000         0.000000      1.000000  \n",
       "75%       11.000000         0.000000      1.000000  \n",
       "max       62.000000         1.000000      1.000000  "
      ]
     },
     "execution_count": 9,
     "metadata": {},
     "output_type": "execute_result"
    }
   ],
   "source": [
    "# df.describe() calculates summary statistics the count, mean, standard deviation, min, max, and quartiles \n",
    "# of the data less the nominal (object) columns. \n",
    "df_desc_table = df.describe() # result: 41 numeric types\n",
    "df_desc_table"
   ]
  },
  {
   "cell_type": "markdown",
   "metadata": {},
   "source": [
    "Summary statistics above are for numeric data types with a totoal of 41 features.  the count of 82332 indicate no missing data.  \n",
    "\n",
    "Binary Data types are **is_sm_ips_ports**, **is_ftp_login**, **label**\n",
    "- **label** Min = 0, Max = 1, which is what I would expect as it is binary in nature where 0 means it is a normal packet, while 1 means it is an attack record (or abnormal)\n",
    "- **is_sm_ips_ports**  Min = 0, Max = 1, which is what I would expect as it is binary in nature\n",
    "- ** is_ftp_login **  Min = -=0, Max = 2, I wouldn't expect max = 2 for this feature  (Marked \n"
   ]
  },
  {
   "cell_type": "code",
   "execution_count": 10,
   "metadata": {
    "collapsed": false
   },
   "outputs": [
    {
     "data": {
      "text/html": [
       "<div>\n",
       "<table border=\"1\" class=\"dataframe\">\n",
       "  <thead>\n",
       "    <tr style=\"text-align: right;\">\n",
       "      <th></th>\n",
       "      <th>proto</th>\n",
       "      <th>service</th>\n",
       "      <th>state</th>\n",
       "      <th>attack_cat</th>\n",
       "    </tr>\n",
       "  </thead>\n",
       "  <tbody>\n",
       "    <tr>\n",
       "      <th>count</th>\n",
       "      <td>82332</td>\n",
       "      <td>82332</td>\n",
       "      <td>82332</td>\n",
       "      <td>82332</td>\n",
       "    </tr>\n",
       "    <tr>\n",
       "      <th>unique</th>\n",
       "      <td>131</td>\n",
       "      <td>13</td>\n",
       "      <td>7</td>\n",
       "      <td>10</td>\n",
       "    </tr>\n",
       "    <tr>\n",
       "      <th>top</th>\n",
       "      <td>tcp</td>\n",
       "      <td>-</td>\n",
       "      <td>FIN</td>\n",
       "      <td>Normal</td>\n",
       "    </tr>\n",
       "    <tr>\n",
       "      <th>freq</th>\n",
       "      <td>43095</td>\n",
       "      <td>47153</td>\n",
       "      <td>39339</td>\n",
       "      <td>37000</td>\n",
       "    </tr>\n",
       "  </tbody>\n",
       "</table>\n",
       "</div>"
      ],
      "text/plain": [
       "        proto service  state attack_cat\n",
       "count   82332   82332  82332      82332\n",
       "unique    131      13      7         10\n",
       "top       tcp       -    FIN     Normal\n",
       "freq    43095   47153  39339      37000"
      ]
     },
     "execution_count": 10,
     "metadata": {},
     "output_type": "execute_result"
    }
   ],
   "source": [
    "df.describe(include=['O']) # summary statistics on the categrical data types in our dataset."
   ]
  },
  {
   "cell_type": "code",
   "execution_count": 106,
   "metadata": {
    "collapsed": false
   },
   "outputs": [
    {
     "name": "stdout",
     "output_type": "stream",
     "text": [
      "dur float64\n",
      "spkts int64\n",
      "dpkts int64\n",
      "sbytes int64\n",
      "dbytes int64\n",
      "rate float64\n",
      "sttl int64\n",
      "dttl int64\n",
      "sload float64\n",
      "dload float64\n",
      "sloss int64\n",
      "dloss int64\n",
      "sinpkt float64\n",
      "dinpkt float64\n",
      "sjit float64\n",
      "djit float64\n",
      "swin int64\n",
      "stcpb int64\n",
      "dtcpb int64\n",
      "dwin int64\n",
      "tcprtt float64\n",
      "synack float64\n",
      "ackdat float64\n",
      "smean int64\n",
      "dmean int64\n",
      "trans_depth int64\n",
      "response_body_len int64\n",
      "ct_srv_src int64\n",
      "ct_state_ttl int64\n",
      "ct_dst_ltm int64\n",
      "ct_src_dport_ltm int64\n",
      "ct_dst_sport_ltm int64\n",
      "ct_dst_src_ltm int64\n",
      "is_ftp_login int64\n",
      "ct_ftp_cmd int64\n",
      "ct_flw_http_mthd int64\n",
      "ct_src_ltm int64\n",
      "ct_srv_dst int64\n",
      "is_sm_ips_ports int64\n",
      "label int64\n",
      "0\n",
      "82332\n",
      "6201\n"
     ]
    },
    {
     "data": {
      "text/plain": [
       "<matplotlib.axes._subplots.AxesSubplot at 0x2f2fa9e8>"
      ]
     },
     "execution_count": 106,
     "metadata": {},
     "output_type": "execute_result"
    },
    {
     "data": {
      "image/png": "[encoded data removed]",
      "text/plain": [
       "<matplotlib.figure.Figure at 0x2eee30b8>"
      ]
     },
     "metadata": {},
     "output_type": "display_data"
    }
   ],
   "source": [
    "# this could be useful http://stackoverflow.com/questions/24901766/python-how-to-get-column-names-from-pandas-dataframe-but-only-for-continuous\n",
    "df2 = df.copy(deep=True)\n",
    "df2.drop('id', axis=1, inplace=True) # 1 is the axis number ( 0 for rows 1 for columns), dropping id as it doesn't make sense to plot outliers for that column\n",
    "for col in df2.columns:\n",
    "    if(df2[col].dtype == np.float64 or df2[col].dtype == np.int64):\n",
    "        # do something\n",
    "        print df2[col].name + \" \" + str(df[col].dtype)\n",
    "\n",
    "\n",
    "# using += 1.5 IQR to determine outliers from continous/oridnal numbers. \n",
    "col_rate = df_desc_table['rate']\n",
    "df_sub2 =df[['rate']]\n",
    "#type(df_desc_table)\n",
    "#type(col_rate) # pandas.core.series.Series\n",
    "#col_rate\n",
    "#df_desc_table.keys()\n",
    "q1 = df_desc_table.iloc[4]['rate']  # 6 = 25% row of description table or Q1\n",
    "q3 = df_desc_table.iloc[6]['rate']  # 6 = 75% row of description table or Q3\n",
    "iqr = q3 - q1\n",
    "upper_outlier_threshold = q3 + (1.5 * iqr) \n",
    "lower_outlier_threshold = q1 - (1.5 * iqr)\n",
    "#df_desc_table.get_values()\n",
    "#ol_rate[np.abs(col_rate) > 2]\n",
    "# http://stackoverflow.com/questions/22697773/how-to-check-the-dtype-of-a-column-in-python-pandas\n",
    "#df_info = df.info()\n",
    "#type(df_info) # NoneType\n",
    "# type(df.columns) # pandas.core.index.Index\n",
    "col_index = df.columns\n",
    "col_index.get_values() # Returns an array of column names \n",
    "col = df['rate']\n",
    "lower_outliers = col[col < lower_outlier_threshold]\n",
    "upper_outliers = col[col > upper_outlier_threshold]\n",
    "print len(lower_outliers)\n",
    "print len(col)\n",
    "print len(upper_outliers)\n",
    "# according to this link , outliers do not show when you use seaborn: http://stackoverflow.com/questions/28908003/matplotlib-box-plot-fliers-not-showing\n",
    "# sns.boxplot (data_to_plot, ax=ax)\n",
    "#df.boxplot(column='rate', return_type='axes')  # \n",
    "#Set up the graph parameters\n",
    "sns.set(context='notebook', style='whitegrid')\n",
    "sns.axlabel(xlabel=\"Features\", ylabel=\"Y-Axis\", fontsize=16)\n",
    "sns.boxplot(data=df[['spkts', 'dpkts']] , fliersize=3) # api: https://stanford.edu/~mwaskom/software/seaborn/generated/seaborn.boxplot.html\n",
    "#df_info.iloc[0][4]"
   ]
  },
  {
   "cell_type": "code",
   "execution_count": 12,
   "metadata": {
    "collapsed": false
   },
   "outputs": [
    {
     "name": "stdout",
     "output_type": "stream",
     "text": [
      "column name:#lower_outliers:#obserations:#upper_outliers:Max Values\n",
      "dur:0:82332:5868:59.999989\n",
      "spkts:0:82332:10196:10646.0\n",
      "dpkts:0:82332:8907:11018.0\n",
      "sbytes:0:82332:9270:14355774.0\n",
      "dbytes:0:82332:12308:14657531.0\n",
      "rate:0:82332:6201:1000000.003\n",
      "sload:0:82332:6715:5268000256.0\n",
      "dload:0:82332:18112:20821108.0\n",
      "sloss:0:82332:5499:5319.0\n",
      "dloss:0:82332:11272:5507.0\n",
      "sinpkt:0:82332:5668:60009.992\n",
      "dinpkt:0:82332:4717:57739.24\n",
      "sjit:0:82332:6321:1483830.917\n",
      "djit:0:82332:8573:463199.2401\n",
      "tcprtt:0:82332:2020:3.821465\n",
      "synack:0:82332:2954:3.226788\n",
      "ackdat:0:82332:2480:2.928778\n",
      "smean:0:82332:11928:1504.0\n",
      "dmean:0:82332:9902:1500.0\n",
      "trans_depth:0:82332:7582:131.0\n",
      "response_body_len:0:82332:5657:5242880.0\n",
      "ct_srv_src:0:82332:10093:63.0\n",
      "ct_state_ttl:0:82332:1833:6.0\n",
      "ct_dst_ltm:0:82332:10479:59.0\n",
      "ct_src_dport_ltm:0:82332:11476:59.0\n",
      "ct_dst_sport_ltm:0:82332:10907:38.0\n",
      "ct_dst_src_ltm:0:82332:12789:63.0\n",
      "is_ftp_login:0:82332:678:2.0\n",
      "ct_ftp_cmd:0:82332:680:2.0\n",
      "ct_flw_http_mthd:0:82332:7580:16.0\n",
      "ct_src_ltm:0:82332:9579:60.0\n",
      "ct_srv_dst:0:82332:10040:62.0\n",
      "is_sm_ips_ports:0:82332:916:1.0\n",
      "number of features with outliers: 33\n"
     ]
    },
    {
     "name": "stderr",
     "output_type": "stream",
     "text": [
      "C:\\Anaconda\\lib\\site-packages\\ipykernel\\__main__.py:7: SettingWithCopyWarning: \n",
      "A value is trying to be set on a copy of a slice from a DataFrame\n",
      "\n",
      "See the caveats in the documentation: http://pandas.pydata.org/pandas-docs/stable/indexing.html#indexing-view-versus-copy\n"
     ]
    }
   ],
   "source": [
    "#******* \n",
    "# Code that calculates the number of outliers below and above for continous numeric features.\n",
    "# this is to help determine which particular feature to do box plots on.\n",
    "#ref: http://stackoverflow.com/questions/24901766/python-how-to-get-column-names-from-pandas-dataframe-but-only-for-continuous\n",
    "df_cont = df.select_dtypes(['float64', 'int64']) # a data frame of just continous variables\n",
    "len(df_cont.columns)\n",
    "df_cont.drop('id', axis=1, inplace=True) # 1 is the axis number ( 0 for rows 1 for columns), dropping id as it doesn't make sense to plot outliers for that column\n",
    "len(df_cont.columns)\n",
    "print \"column name:#lower_outliers:#obserations:#upper_outliers:Max Values\"\n",
    "num_features_with_outliers = 0\n",
    "for col_name in df_cont.columns:\n",
    "    q1 = df_desc_table.iloc[4][col_name]  # 4 = 25% row of description table or Q1\n",
    "    q3 = df_desc_table.iloc[6][col_name]  # 6 = 75% row of description table or Q3\n",
    "    max_val = df_desc_table.iloc[7][col_name] # 7 = max value\n",
    "    iqr = q3 - q1\n",
    "    upper_outlier_threshold = q3 + (1.5 * iqr) \n",
    "    lower_outlier_threshold = q1 - (1.5 * iqr)\n",
    "    col = df[col_name]\n",
    "    lower_outliers = col[col < lower_outlier_threshold]\n",
    "    upper_outliers = col[col > upper_outlier_threshold]\n",
    "    if (len(lower_outliers) + len(upper_outliers)) > 0:\n",
    "        num_features_with_outliers+=1\n",
    "        print col_name + \":\" + str(len(lower_outliers)) + \":\" + str(len(col)) + \":\" + str(len(upper_outliers)) + \":\" + str(max_val)\n",
    "print \"number of features with outliers: \" + str(num_features_with_outliers)\n",
    "\n",
    "#df.describe()"
   ]
  },
  {
   "cell_type": "markdown",
   "metadata": {
    "collapsed": true
   },
   "source": [
    "Based on the code above there are 33 features with outliers based on 1.5IQR standard.\n",
    "Note: Results were pulled out into excel to sort on number of outliers and max value to try and triage which variables to look\n",
    "Interesting to note: there were no lower outliers, just upper outliers.\n",
    "The top 5 features based on number of outliers are: \n",
    "feature name (number of outliers)\n",
    "dload (18112)\n",
    "ct_dst_src_ltm (12789)\n",
    "dbytes(12308)\n",
    "smean(11928)\n",
    "ct_src_dport_ltm(11476)\n",
    "\n",
    "Sorting by max_value will help to do box plots for variables with similar magnitude:\n",
    "E.g. \n",
    "dbytes, sbytes are similar in max value\n",
    "dloss, sloss are similar in max value\n",
    "ct_dst_src_ltm, ct_srv_src, ct_src_ltm are similar in max vax value\n",
    "\n",
    "Lets do box plots and histograms these to get a graphical visual\n",
    "\n"
   ]
  },
  {
   "cell_type": "code",
   "execution_count": 13,
   "metadata": {
    "collapsed": false
   },
   "outputs": [
    {
     "name": "stderr",
     "output_type": "stream",
     "text": [
      "C:\\Anaconda\\lib\\site-packages\\matplotlib\\__init__.py:892: UserWarning: axes.color_cycle is deprecated and replaced with axes.prop_cycle; please use the latter.\n",
      "  warnings.warn(self.msg_depr % (key, alt_key))\n"
     ]
    },
    {
     "data": {
      "text/plain": [
       "<matplotlib.axes._subplots.AxesSubplot at 0x21e38668>"
      ]
     },
     "execution_count": 13,
     "metadata": {},
     "output_type": "execute_result"
    },
    {
     "data": {
      "image/png": "[encoded data removed]",
      "text/plain": [
       "<matplotlib.figure.Figure at 0x21e385f8>"
      ]
     },
     "metadata": {},
     "output_type": "display_data"
    }
   ],
   "source": [
    "#Set up the graph parameters\n",
    "sns.set(context='notebook', style='whitegrid')\n",
    "sns.axlabel(xlabel=\"Features\", ylabel=\"Y-Axis\", fontsize=16)\n",
    "sns.boxplot(data=df[['dbytes', 'sbytes']] , fliersize=3) # api: https://stanford.edu/~mwaskom/software/seaborn/generated/seaborn.boxplot.html"
   ]
  },
  {
   "cell_type": "code",
   "execution_count": 20,
   "metadata": {
    "collapsed": false
   },
   "outputs": [
    {
     "data": {
      "text/plain": [
       "array([[<matplotlib.axes._subplots.AxesSubplot object at 0x0000000022F1BBE0>,\n",
       "        <matplotlib.axes._subplots.AxesSubplot object at 0x000000002005FBA8>]], dtype=object)"
      ]
     },
     "execution_count": 20,
     "metadata": {},
     "output_type": "execute_result"
    },
    {
     "data": {
      "image/png": "[encoded data removed]",
      "text/plain": [
       "<matplotlib.figure.Figure at 0x22c60588>"
      ]
     },
     "metadata": {},
     "output_type": "display_data"
    }
   ],
   "source": [
    "df[['dbytes', 'sbytes']].diff().hist(alpha=0.5, bins=50)"
   ]
  },
  {
   "cell_type": "markdown",
   "metadata": {},
   "source": [
    "Looking at the histogram for dbytes and sbytes, there seems to be a lot of values very close to 0 and they seem\n",
    "to track each other in quantity. I wouldn't be surprised if they were highly correlated.They have very similar steep central distribution centered around 0."
   ]
  },
  {
   "cell_type": "code",
   "execution_count": 14,
   "metadata": {
    "collapsed": false
   },
   "outputs": [
    {
     "data": {
      "text/plain": [
       "<matplotlib.axes._subplots.AxesSubplot at 0x21e389b0>"
      ]
     },
     "execution_count": 14,
     "metadata": {},
     "output_type": "execute_result"
    },
    {
     "data": {
      "image/png": "[encoded data removed]",
      "text/plain": [
       "<matplotlib.figure.Figure at 0x21e38860>"
      ]
     },
     "metadata": {},
     "output_type": "display_data"
    }
   ],
   "source": [
    "sns.axlabel(xlabel=\"Features\", ylabel=\"Y-Axis\", fontsize=16)\n",
    "sns.boxplot(data=df[['dloss', 'sloss']] , fliersize=3) # api: https://stanford.edu/~mwaskom/software/seaborn/generated/seaborn.boxplot.html"
   ]
  },
  {
   "cell_type": "code",
   "execution_count": 19,
   "metadata": {
    "collapsed": false
   },
   "outputs": [
    {
     "data": {
      "text/plain": [
       "array([[<matplotlib.axes._subplots.AxesSubplot object at 0x0000000021A58828>,\n",
       "        <matplotlib.axes._subplots.AxesSubplot object at 0x0000000022D03470>]], dtype=object)"
      ]
     },
     "execution_count": 19,
     "metadata": {},
     "output_type": "execute_result"
    },
    {
     "data": {
      "image/png": "[encoded data removed]",
      "text/plain": [
       "<matplotlib.figure.Figure at 0x226972b0>"
      ]
     },
     "metadata": {},
     "output_type": "display_data"
    }
   ],
   "source": [
    "df[['dloss', 'sloss']].diff().hist(alpha=0.5, bins=50)"
   ]
  },
  {
   "cell_type": "markdown",
   "metadata": {},
   "source": [
    "dloss and sloss also see to have a lot of values near 0 and also seem to have roughly the same amount. Again, would not be surprised to see these variables correlate to each other. They have very similar steep central distribution centered around 0."
   ]
  },
  {
   "cell_type": "code",
   "execution_count": 15,
   "metadata": {
    "collapsed": false
   },
   "outputs": [
    {
     "data": {
      "text/plain": [
       "<matplotlib.axes._subplots.AxesSubplot at 0x220fd2e8>"
      ]
     },
     "execution_count": 15,
     "metadata": {},
     "output_type": "execute_result"
    },
    {
     "data": {
      "image/png": "[encoded data removed]",
      "text/plain": [
       "<matplotlib.figure.Figure at 0x2167c4e0>"
      ]
     },
     "metadata": {},
     "output_type": "display_data"
    }
   ],
   "source": [
    "sns.axlabel(xlabel=\"Features\", ylabel=\"Y-Axis\", fontsize=16)\n",
    "sns.boxplot(data=df[['ct_dst_src_ltm', 'ct_srv_src', 'ct_src_ltm']] , fliersize=3) # api: https://stanford.edu/~mwaskom/software/seaborn/generated/seaborn.boxplot.html"
   ]
  },
  {
   "cell_type": "code",
   "execution_count": 18,
   "metadata": {
    "collapsed": false
   },
   "outputs": [
    {
     "data": {
      "text/plain": [
       "array([[<matplotlib.axes._subplots.AxesSubplot object at 0x000000002231B588>,\n",
       "        <matplotlib.axes._subplots.AxesSubplot object at 0x000000001D90CA90>],\n",
       "       [<matplotlib.axes._subplots.AxesSubplot object at 0x000000001DB20358>,\n",
       "        <matplotlib.axes._subplots.AxesSubplot object at 0x000000001DBBEB70>]], dtype=object)"
      ]
     },
     "execution_count": 18,
     "metadata": {},
     "output_type": "execute_result"
    },
    {
     "data": {
      "image/png": "[encoded data removed]",
      "text/plain": [
       "<matplotlib.figure.Figure at 0x1d79db38>"
      ]
     },
     "metadata": {},
     "output_type": "display_data"
    }
   ],
   "source": [
    "df[['ct_dst_src_ltm', 'ct_srv_src', 'ct_src_ltm']].diff().hist(alpha=0.5, bins=50)"
   ]
  },
  {
   "cell_type": "markdown",
   "metadata": {},
   "source": [
    "'ct_dst_src_ltm', 'ct_srv_src', 'ct_src_ltm' also see to have a lot of values near 0 although slighly wider spread then previous features. Again, would not be surprised to see these variables correlate to each other. They have very similar steep central distribution centered around 0."
   ]
  },
  {
   "cell_type": "code",
   "execution_count": 10,
   "metadata": {
    "collapsed": false,
    "scrolled": false
   },
   "outputs": [
    {
     "name": "stdout",
     "output_type": "stream",
     "text": [
      "﻿id:\n",
      "[    1     2     3 ..., 82330 82331 82332]\n",
      "dur:\n",
      "[  1.10000000e-05   8.00000000e-06   5.00000000e-06 ...,   8.11914000e-01\n",
      "   5.16741000e+00   1.10610100e+00]\n",
      "proto:\n",
      "['udp' 'arp' 'tcp' 'igmp' 'ospf' 'sctp' 'gre' 'ggp' 'ip' 'ipnip' 'st2'\n",
      " 'argus' 'chaos' 'egp' 'emcon' 'nvp' 'pup' 'xnet' 'mux' 'dcn' 'hmp' 'prm'\n",
      " 'trunk-1' 'trunk-2' 'xns-idp' 'leaf-1' 'leaf-2' 'irtp' 'rdp' 'netblt'\n",
      " 'mfe-nsp' 'merit-inp' '3pc' 'idpr' 'ddp' 'idpr-cmtp' 'tp++' 'ipv6' 'sdrp'\n",
      " 'ipv6-frag' 'ipv6-route' 'idrp' 'mhrp' 'i-nlsp' 'rvd' 'mobile' 'narp'\n",
      " 'skip' 'tlsp' 'ipv6-no' 'any' 'ipv6-opts' 'cftp' 'sat-expak' 'ippc'\n",
      " 'kryptolan' 'sat-mon' 'cpnx' 'wsn' 'pvp' 'br-sat-mon' 'sun-nd' 'wb-mon'\n",
      " 'vmtp' 'ttp' 'vines' 'nsfnet-igp' 'dgp' 'eigrp' 'tcf' 'sprite-rpc' 'larp'\n",
      " 'mtp' 'ax.25' 'ipip' 'aes-sp3-d' 'micp' 'encap' 'pri-enc' 'gmtp' 'ifmp'\n",
      " 'pnni' 'qnx' 'scps' 'cbt' 'bbn-rcc' 'igp' 'bna' 'swipe' 'visa' 'ipcv'\n",
      " 'cphb' 'iso-tp4' 'wb-expak' 'sep' 'secure-vmtp' 'xtp' 'il' 'rsvp' 'unas'\n",
      " 'fc' 'iso-ip' 'etherip' 'pim' 'aris' 'a/n' 'ipcomp' 'snp' 'compaq-peer'\n",
      " 'ipx-n-ip' 'pgm' 'vrrp' 'l2tp' 'zero' 'ddx' 'iatp' 'stp' 'srp' 'uti' 'sm'\n",
      " 'smp' 'isis' 'ptp' 'fire' 'crtp' 'crudp' 'sccopmce' 'iplt' 'pipe' 'sps'\n",
      " 'ib']\n",
      "service:\n",
      "['-' 'http' 'ftp' 'ftp-data' 'smtp' 'pop3' 'dns' 'snmp' 'ssl' 'dhcp' 'irc'\n",
      " 'radius' 'ssh']\n",
      "state:\n",
      "['INT' 'FIN' 'REQ' 'ACC' 'CON' 'RST' 'CLO']\n",
      "spkts:\n",
      "[    2     1    10    14    22    20    18    12    16     8     6     4\n",
      "   202    28   246    34    26   224    38    36    48   150    40   116\n",
      "  5416    24  4144   182   252  1642    60   232    62    90    50   136\n",
      "    30    32   118    72    88    52    46    80   160   114   790    54\n",
      "   130    76    78  3684   102   180    44     3  6874   154   284   112\n",
      "   342    74    64   152    82   228   158   822   334   200    42   194\n",
      "   146   144   106   108   262   240   268   372   322    58    68    92\n",
      "   658   320   222    96   196   300   162   366   254   210   378    70\n",
      "   310   346    56   104   798   654   564   192    84  1250  6954  5974\n",
      "    98  1872   184    86   970   298   110  3960   186    66   250   580\n",
      "   294   556   386  1624   148   584   100   248   382   170  9392   694\n",
      "   742   122   132  2494   164  5422 10646  8424   362   128   816   208\n",
      "   548    94   168   226   434   486  1192  3262   424  2726   258   260\n",
      "   256   614   484   140   392   900  6778   416  1118   706   506   626\n",
      "   676   730  5646   332   784   302   316   772  1174  1178   218   120\n",
      "   470   230   640   344   602   234   236   360   328    39   452   338\n",
      "   354   340     5    37   670    21     9    19   142   370    17   400\n",
      "    11   450     7   442   205   686   690   364   305   620   214   314\n",
      "   220   349   317   458    43   660   447   420   336   292   324   356\n",
      "   423   242   353   422   129    27   438   103   352   398   276   426\n",
      "   238   350   448    45   221   351    91    13   333   444   304   358\n",
      "   348    61   212   216    87   206   204   436   432   440   668   384\n",
      "   464   662   524    29    35   225   323   454   326   330   664   502\n",
      "   198   312   456   341   207   402   418   674   319    47   672   650\n",
      "   534   318   646   287   396   638   237    73    41   361   191   105\n",
      "   195   177   313   379   223    51   388   306   197    63   430   201\n",
      "   339   415    59    67   190   395   119   425    81   251   376   357\n",
      "   389    85   327    57   213   410    23   219    15   291   166   355\n",
      "   404    49   209   428   526   121   270  4132   764  1074  1632   188\n",
      "   126   176   820   282   134  1622   572   156   178   264   286    31\n",
      "   138   846   244   544   293   606   496  4812   644   374  5196  1256\n",
      "   172   752   922  1082  5466    25  7340  3638   278  5060  1430   446\n",
      "   550   716   782   272  1874  1940   280   700  5179   562  3760   578\n",
      "  1600  5364   560   124   592  8669  9416  2854 10200  2978   536  2676\n",
      "   797   692  6820   622  5532   898   788   522  2730  1159    83   266]\n",
      "dpkts:\n",
      "[    0     6     8    10    12  1294    20    22    24  1554    28    64\n",
      "    52    14    38    50    26    16   806   622    44     2    54 11018\n",
      "   348   368    18    32    82    46    36    68   116    30    42   236\n",
      "    96   114   306   426     4   656   136   118    58    56    48   812\n",
      "   286    62   156    34    72   634   538   148   566   112    40   208\n",
      "    76   102  1020    66    92   190   448   146   296   220    80  1464\n",
      "   140   162    78   164  1250   320    84   226    60   242   532  1700\n",
      "   152    98   340    86   606   170   230   132   366  1534    94  1428\n",
      "    70   110   338   206   124    74   158   160   362   138   108   252\n",
      "   100   276   256  3692   240   200  1032   376   308   130   896   570\n",
      "   154   300   352   662   150   298   620   228   602    88   210   282\n",
      "   122   694   106   104   204   394   332   334   560   800    90   304\n",
      "   234  1412   126   144   128   378   250   818   608  1582  1272   356\n",
      "   272   120   386  1224   184   258   624  7958   502   274   420   246\n",
      "  3148  1438   810 10872   166   174   402   222  1034  1618   380   290\n",
      "   856   330   484  4518   644  2012   248   358   816   390   430  7728\n",
      "   424   218   142   446   444   418   826   372  3128   134   490   438\n",
      "     3  1278   746  1176   858   119    15   295     1    11    13     7\n",
      "    41   757   163    21   363   684   697   726   652   121   432    27\n",
      "   738   845   630   851   504   740   636   728   125   508   178   436\n",
      "   748   493   819   416    49   423   506   714   735   159   729    39\n",
      "   396   411    33   437   846   742   854  1012     9   713    47   109\n",
      "     5    25    17    67    53   413   648   354   232   768   720   346\n",
      "   577   342   730   238   711   702   421   427   353   434   361   669\n",
      "    43   695   731   244   410   355   743   113   623   723   422   123\n",
      "   428   727   766   347   718    61   326   788    29    59    71   431\n",
      "   673   689   221   328    75   824   646   701   724    35   675    55\n",
      "   224   780   739   409   633   360   672   693   383   400   309   216\n",
      "   829   692   682  1722   530   292 10970   464   278   370   314   374\n",
      "   668   280   462  3784   480   696   188   628    19   254   906  1212\n",
      "   212   324   310  3504    23   750   388  1349    37   182   784  2668\n",
      "   466   266   405   382   318    69   408  7090   828  1100   548   168\n",
      "  1812   582   770  2929   796   302  2030    83  1724   805  1386   586\n",
      "   172    31   549   802   180   197   186  1230   559  1446   201  1340\n",
      "  1418   478  1038   486  1518   414  1984   890  3360   452   600   322\n",
      "   654  1028  1014   336   404    57   863  5902  4455  1324   288   804\n",
      "   704  2194  1163  1432]\n",
      "sbytes:\n",
      "[   496   1762   1068 ...,   3376 135414 138067]\n",
      "dbytes:\n",
      "[    0   268   354 ...,  9148  9232 15365]\n",
      "rate:\n",
      "[  9.09090902e+04   1.25000000e+05   2.00000005e+05 ...,   1.84748620e+01\n",
      "   2.53511920e+01   2.44100670e+01]\n",
      "sttl:\n",
      "[254   0  62 255  31  60   1  32  29  30  63]\n",
      "dttl:\n",
      "[  0 252  60  29  31  30  32 253]\n",
      "sload:\n",
      "[  1.80363632e+08   8.81000000e+08   8.54400000e+08 ...,   5.22222803e+03\n",
      "   2.11771859e+05   1.24104398e+05]\n",
      "dload:\n",
      "[    0.        1249.506714  1288.789062 ...,  2207.130127  1546.616211\n",
      "  2242.109863]\n",
      "sloss:\n",
      "[   0    2    4   21   19   17   15   13   11    9    7    5    3    1   31\n",
      "  109   16   72    6   14 2705    8 2070   88  123  113   10   42   22   65\n",
      "   12   50   33   41   23   20   37   77  391   24   35   36   56 1841   87\n",
      " 3436   27   74  139   53  168   28   29   98  120   73   38   54   76  409\n",
      "  164   18   94   70   51  117   34  131  183   26   43  326  157  108   95\n",
      "  146   78  180   55  124  102  186   32  152  170   49  396  324  279   93\n",
      "   39  622 3476 2986   48  933   40   68  478 1976   90   30   69  286  144\n",
      "  275  189  809   71  289   47   25  188   82 4694  343  368   58   63 1241\n",
      "   79 2707 5319 4210  178   61  407  274   44   81  110  216  240 1627  209\n",
      " 1360  126  127  125  304  193  449 3386  205  556  350  250  310  337  362\n",
      " 2820  161  389   75  154  386  586  145  106   59   66   52   45 2065  381\n",
      "  535   91   85  403   57  138   46   64   89   86   92  128   80   83  140\n",
      "   60   67  420  111  150  165  345  119  269  281 2405  219  319  184  167\n",
      "  118 2594  625  422  259  190   62  375  460 2730  121 3669 1812  156  202\n",
      " 2528  712  171  272  355  388  132  934  967  347 2535  278 1876  797  179\n",
      " 2679  130  276  293 4206 4707 1424  122 5096 1484 1335  394 3407  308  257\n",
      " 1362  159  546  210  104  103  100   99   97  129  107  101   96]\n",
      "dloss:\n",
      "[   0    1    2    3  645    7    9    4    8   10  775   11   30   23   17\n",
      "    6    5   12   20 5507  172  182   38   39   21   32   56  116   44   54\n",
      "  151  211   13  326   16   57   27   25   22  403  141   19   29   76   34\n",
      "  267   72  281   18   14   24  102   36   49   55   93  222   71  146  108\n",
      "   37  729   79   31   80  623   15  158   40  111   28  118  264   26  848\n",
      "  181   74   47  168   68   41  301   82  113   64  765   45  712   33   53\n",
      "  167  101   60   35   77   78  179   83   52  124  135  126 1844  185   63\n",
      "  283  136   75  174  329   46  308  112   48   42  103  139   59  345   50\n",
      "  100  195  164  165  278   43  150  114   61   67   70  123  302  176  134\n",
      "   58  610   89  127  310 3978  121  184 1572  717 5436   81   62   85  109\n",
      "  806  163  240   66 2257  320 1004  122  177  406 3864  207  210  107   69\n",
      "  221  220  410  183 1558   65  243  197  583  370  536  390  104  155  323\n",
      "  190  337  353   51  193  362  381  286  386  364  274  288  356  340  196\n",
      "  227  365  187  360  349  357  178  358  383  367  461  295  361  354  368\n",
      "  273   98  369  352  318  191  156  327  336  128  142  189  298  319  332\n",
      "  346  145  194  355  137  334  300  317   99   97  304  169  175  359  348\n",
      "  312  206  411  859  263  144 5483  230  115  138  180 1886  237   92  106\n",
      "  247  125  451  604  148 1561  152  153 1750  215  192  608 1331  120  157\n",
      "  202 3545  904  289 1436  299 1013  860  691  188  143  242  119   87   96\n",
      "   90  613  262  721  517  214  186  205  990  442 1676  217  154  325  504\n",
      "  166  199 2950 2193  641  241  400  350 1091  535  714]\n",
      "sinpkt:\n",
      "[  1.10000000e-02   8.00000000e-03   5.00000000e-03 ...,   8.32163330e+01\n",
      "   4.82877670e+01   5.58800510e+01]\n",
      "dinpkt:\n",
      "[   0.        270.886813  261.252    ...,  138.888594  221.155219  143.7     ]\n",
      "sjit:\n",
      "[     0.        10042.8699    13125.11139  ...,   4368.102356   9709.118613\n",
      "   4798.130981]\n",
      "djit:\n",
      "[   0.        468.508156  399.405156 ...,  195.623781  559.5605    190.980813]\n",
      "swin:\n",
      "[  0 255 156 202  99   5  67 154  52 245  43]\n",
      "stcpb:\n",
      "[         0 1640845588 2214319888 ..., 3487870721 2309382861 1072535109]\n",
      "dtcpb:\n",
      "[         0  177111456 3374287000 ..., 2884385558 4150989117 3284291478]\n",
      "dwin:\n",
      "[  0 255  81 160  77 171 137 164  27  33 209  12  46 125]\n",
      "tcprtt:\n",
      "[ 0.        0.148966  0.185096 ...,  0.237125  0.140691  0.173208]\n",
      "synack:\n",
      "[ 0.        0.079731  0.095516 ...,  0.083616  0.117467  0.100191]\n",
      "ackdat:\n",
      "[ 0.        0.069235  0.08958  ...,  0.119658  0.05986   0.073017]\n",
      "smean:\n",
      "[ 248  881  534 ...,  515 1015  523]\n",
      "dmean:\n",
      "[   0   45   44 ...,  610 1377 1033]\n",
      "trans_depth:\n",
      "[  0   1 131   2   9   3   4   8]\n",
      "response_body_len:\n",
      "[   0  184  187 ...,  192  147 1492]\n",
      "ct_srv_src:\n",
      "[ 2  3  1  4  5 17 18  8 11 12  6 27 10  7  9 37 39 63 28 43 14 20 13 36 22\n",
      " 29 19 15 24 59 30 35 41 45 21 47 38 48 23 25 32 44 26 33 16 34 42 49 51 31\n",
      " 50 40 52 46 54 53 58]\n",
      "ct_state_ttl:\n",
      "[2 1 6 4 0 3 5]\n",
      "ct_dst_ltm:\n",
      "[ 1  2 18  4  9  3  5  8 19 20 11  6  7 14 15 10 12 35 13 24 16 42 30 17 26\n",
      " 41 27 25 47 37 32 31 43 34 33 39 36 29 28 21 45 38 22 44 23 40 59 52 50 48]\n",
      "ct_src_dport_ltm:\n",
      "[ 1  2  3  4 10 14 15  9  6  8  5 12  7 13 11 18 16 42 30 17 26 41 27 25 47\n",
      " 24 19 37 32 31 43 34 33 39 36 35 20 29 28 21 45 38 22 44 23 40 59 52 50 48]\n",
      "ct_dst_sport_ltm:\n",
      "[ 1  2  3  4 10  6  5  8 18 14  9 26 11 16 25 12 37  7 13 27 24 21 19 23 22\n",
      " 15 17 20 28 33 32 31 38]\n",
      "ct_dst_src_ltm:\n",
      "[ 2  3  1 14 17  7 11  9  4 18 25 10 63 12  6  5 37 39  8 28 40 20 13 36 22\n",
      " 29 15 21 23 34 24 26 59 30 35 41 45 47 38 48 32 43 44 19 16 42 49 51 31 27\n",
      " 50 33 52 46 54 53 58]\n",
      "is_ftp_login:\n",
      "[0 1 2]\n",
      "ct_ftp_cmd:\n",
      "[0 1 2]\n",
      "ct_flw_http_mthd:\n",
      "[ 0  1  9  4  2 16 12  6]\n",
      "ct_src_ltm:\n",
      "[ 1  2  3 10  4  5  9 11 22  6  7 14 15 13 12 19 21 23  8 18 35 17 16 27 20\n",
      " 43 30 42 26 25 47 24 37 32 31 34 33 39 36 29 45 38 44 40 60 52 50 48 41 28]\n",
      "ct_srv_dst:\n",
      "[ 2  3  1 15 17  8 11  9  4  5 25 10  7 12  6 37 39 62 28 20 13 36 30 22 29\n",
      " 14 27 23 18 59 35 41 45 21 47 38 48 32 43 44 26 19 33 16 34 24 42 49 51 31\n",
      " 50 40 52 46 54 53 58]\n",
      "is_sm_ips_ports:\n",
      "[0 1]\n",
      "attack_cat:\n",
      "['Normal' 'Reconnaissance' 'Backdoor' 'DoS' 'Exploits' 'Analysis' 'Fuzzers'\n",
      " 'Worms' 'Shellcode' 'Generic']\n",
      "label:\n",
      "[0 1]\n"
     ]
    }
   ],
   "source": [
    "# List the unique values of each column\n",
    "header = df.columns.values.tolist()\n",
    "for column in header:\n",
    "    print column + \":\\n\", df[column].unique()\n",
    "    "
   ]
  },
  {
   "cell_type": "markdown",
   "metadata": {},
   "source": [
    "#### This section will handle any adjustments to the dataset to handle issues like missing, incorrect values etc"
   ]
  },
  {
   "cell_type": "code",
   "execution_count": null,
   "metadata": {
    "collapsed": true
   },
   "outputs": [],
   "source": []
  },
  {
   "cell_type": "markdown",
   "metadata": {},
   "source": [
    "###  Give simple, appropriate statistics (range, mode, mean, median, variance, counts, etc.) for the most important attributes and describe what they mean or if you found something interesting. \n",
    "    - Note: You can also use data from other sources for comparison. Explain the significance of the statistics run and why they are meaningful. "
   ]
  },
  {
   "cell_type": "code",
   "execution_count": null,
   "metadata": {
    "collapsed": true
   },
   "outputs": [],
   "source": []
  },
  {
   "cell_type": "markdown",
   "metadata": {},
   "source": [
    "### Visualize the most important attributes appropriately (at least 5 attributes).\n",
    "    - Important: Provide an interpretation for each chart. Explain for each attribute why the chosen visualization is appropriate. "
   ]
  },
  {
   "cell_type": "code",
   "execution_count": null,
   "metadata": {
    "collapsed": true
   },
   "outputs": [],
   "source": []
  },
  {
   "cell_type": "markdown",
   "metadata": {},
   "source": [
    "### Explore relationships between attributes: Look at the attributes via scatter plots, correlation, cross-tabulation, group-wise averages, etc. as appropriate. \n",
    "    - Explain any interesting relationships."
   ]
  },
  {
   "cell_type": "code",
   "execution_count": null,
   "metadata": {
    "collapsed": true
   },
   "outputs": [],
   "source": []
  },
  {
   "cell_type": "markdown",
   "metadata": {},
   "source": [
    "### Identify and explain interesting relationships between features and the class you are trying to predict (i.e., relationships with variables and the target classification)."
   ]
  },
  {
   "cell_type": "code",
   "execution_count": null,
   "metadata": {
    "collapsed": true
   },
   "outputs": [],
   "source": []
  },
  {
   "cell_type": "markdown",
   "metadata": {},
   "source": [
    " ### Are there other features that could be added to the data or created from existing features? Which ones? "
   ]
  },
  {
   "cell_type": "code",
   "execution_count": null,
   "metadata": {
    "collapsed": true
   },
   "outputs": [],
   "source": []
  }
 ],
 "metadata": {
  "kernelspec": {
   "display_name": "Python 2",
   "language": "python",
   "name": "python2"
  },
  "language_info": {
   "codemirror_mode": {
    "name": "ipython",
    "version": 2
   },
   "file_extension": ".py",
   "mimetype": "text/x-python",
   "name": "python",
   "nbconvert_exporter": "python",
   "pygments_lexer": "ipython2",
   "version": "2.7.12"
  }
 },
 "nbformat": 4,
 "nbformat_minor": 0
}
