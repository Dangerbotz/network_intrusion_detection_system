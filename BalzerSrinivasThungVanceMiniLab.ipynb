{
 "cells": [
  {
   "cell_type": "markdown",
   "metadata": {},
   "source": [
    "# Mini-Project: SVM & LR Classification\n",
    "\n",
<<<<<<< .mine
    "There are two natural dependent variables in our dataset: label and attack_cat. Initial approach is to prep the existing variables for classification and throw in the \"kitchen sink\" and use all features in the dataset to baseline our accuracy. We then investigate what variables my be cross correlated, or less weight and remove them to see if we can increase our accuracy.\n",
||||||| .r69
    "There are two natural dependent variables in our dataset: label and attack_cat\n",
    "Initial approach is to prep the existing variables for classification and throw in the \"kitchen sink\" and baseline our accuracy. Then look further to see what variables my be cross correlated, or less weight and remove them to see if we can increase our accuracy.\n",
=======
    "There are two natural dependent variables in our dataset: label and attack_cat.\n",
    "Initial approach is to prep the existing variables for classification and throw in the \"kitchen sink\" and use all features in the dataset to baseline our accuracy.  We then investigate what variables my be cross correlated, or less weight and remove them to see if we can increase our accuracy.\n",
>>>>>>> .r72
    "\n",
    "In this mini-project, we decided upon trying two different LR classifications and two different SVM classifications. The first LR and SVM classification is on the full dataset, variable \"df\" in our code and referred to as the \"kitchen sink\" model. We then tried doing the LR and SVM classification on the five most correlated features to the label feature, our dependent variable. We'll refer to this one as the \"five-feature\" model, which is represented by the variable \"df_five\""
   ]
  },
  {
   "cell_type": "markdown",
   "metadata": {},
   "source": [
    "### References:\n",
    "http://stats.stackexchange.com/questions/123632/how-does-support-vector-machine-compare-to-logistic-regression\n",
    "https://github.com/eclarson/DataMiningNotebooks/blob/master/04.%20Logits%20and%20SVM.ipynb"
   ]
  },
  {
   "cell_type": "code",
   "execution_count": 38,
   "metadata": {
    "collapsed": false
   },
   "outputs": [],
   "source": [
    "# imports\n",
    "from sklearn.preprocessing import StandardScaler\n",
    "from sklearn.cross_validation import cross_val_score\n",
    "from sklearn.cross_validation import ShuffleSplit\n",
    "from sklearn.linear_model import LogisticRegression\n",
    "from sklearn.pipeline import Pipeline\n",
    "from sklearn import metrics as mt\n",
    "import pandas as pd\n",
    "import numpy as np\n",
    "import seaborn as sns\n",
    "import matplotlib.pyplot as plt\n",
    "import warnings\n",
    "warnings.simplefilter('ignore', DeprecationWarning)\n",
    "\n",
    "pd.set_option('display.max_columns', None)    # set the max columns to show to unlimited\n",
    "%matplotlib inline"
   ]
  },
  {
   "cell_type": "code",
   "execution_count": 3,
   "metadata": {
    "collapsed": false
   },
   "outputs": [
    {
     "name": "stdout",
     "output_type": "stream",
     "text": [
      "<class 'pandas.core.frame.DataFrame'>\n",
      "RangeIndex: 82332 entries, 0 to 82331\n",
      "Data columns (total 6 columns):\n",
      "sttl                82332 non-null int64\n",
      "ct_dst_sport_ltm    82332 non-null int64\n",
      "ct_src_dport_ltm    82332 non-null int64\n",
      "swin                82332 non-null int64\n",
      "dwin                82332 non-null int64\n",
      "label               82332 non-null int64\n",
      "dtypes: int64(6)\n",
      "memory usage: 3.8 MB\n"
     ]
    }
   ],
   "source": [
    "df = pd.read_csv('UNSW_NB15_training_set.csv', encoding='utf-8-sig')  # specifing encoding to get rid of the UTF- Byte order Mark (BOM) in the id field\n",
    "df_five = pd.read_csv('miniLab.csv') # read in the five features most correlated to the label feature\n",
    "\n",
    "df_five.info()"
   ]
  },
  {
   "cell_type": "code",
   "execution_count": 4,
   "metadata": {
    "collapsed": false
   },
   "outputs": [
    {
     "name": "stdout",
     "output_type": "stream",
     "text": [
      "<class 'pandas.core.frame.DataFrame'>\n",
      "RangeIndex: 82332 entries, 0 to 82331\n",
      "Data columns (total 45 columns):\n",
      "id                   82332 non-null int64\n",
      "dur                  82332 non-null float64\n",
      "proto                82332 non-null object\n",
      "service              82332 non-null object\n",
      "state                82332 non-null object\n",
      "spkts                82332 non-null int64\n",
      "dpkts                82332 non-null int64\n",
      "sbytes               82332 non-null int64\n",
      "dbytes               82332 non-null int64\n",
      "rate                 82332 non-null float64\n",
      "sttl                 82332 non-null int64\n",
      "dttl                 82332 non-null int64\n",
      "sload                82332 non-null float64\n",
      "dload                82332 non-null float64\n",
      "sloss                82332 non-null int64\n",
      "dloss                82332 non-null int64\n",
      "sinpkt               82332 non-null float64\n",
      "dinpkt               82332 non-null float64\n",
      "sjit                 82332 non-null float64\n",
      "djit                 82332 non-null float64\n",
      "swin                 82332 non-null int64\n",
      "stcpb                82332 non-null int64\n",
      "dtcpb                82332 non-null int64\n",
      "dwin                 82332 non-null int64\n",
      "tcprtt               82332 non-null float64\n",
      "synack               82332 non-null float64\n",
      "ackdat               82332 non-null float64\n",
      "smean                82332 non-null int64\n",
      "dmean                82332 non-null int64\n",
      "trans_depth          82332 non-null int64\n",
      "response_body_len    82332 non-null int64\n",
      "ct_srv_src           82332 non-null int64\n",
      "ct_state_ttl         82332 non-null int64\n",
      "ct_dst_ltm           82332 non-null int64\n",
      "ct_src_dport_ltm     82332 non-null int64\n",
      "ct_dst_sport_ltm     82332 non-null int64\n",
      "ct_dst_src_ltm       82332 non-null int64\n",
      "is_ftp_login         82332 non-null int64\n",
      "ct_ftp_cmd           82332 non-null int64\n",
      "ct_flw_http_mthd     82332 non-null int64\n",
      "ct_src_ltm           82332 non-null int64\n",
      "ct_srv_dst           82332 non-null int64\n",
      "is_sm_ips_ports      82332 non-null int64\n",
      "attack_cat           82332 non-null object\n",
      "label                82332 non-null int64\n",
      "dtypes: float64(11), int64(30), object(4)\n",
      "memory usage: 28.3+ MB\n"
     ]
    }
   ],
   "source": [
    "df.info()"
   ]
  },
  {
   "cell_type": "code",
   "execution_count": 5,
   "metadata": {
    "collapsed": false
   },
   "outputs": [
    {
     "name": "stdout",
     "output_type": "stream",
     "text": [
      "duplicate record deleted successfully: 82328 observations remaining\n"
     ]
    }
   ],
   "source": [
    "# Lets remove attributes that are not useful to us during this first analysis pass\n",
    "non_useful_features_list = ['id', 'attack_cat']\n",
    "#non_useful_features_list = ['id'] # Re,pved attacl_cat/ LR accuracy: 0.754888861897\n",
    "# id: n internal variable to just ref an obseration. deemed not usefl\n",
    "# attack_cat: first try and just predict the label. \n",
    "#             It will obviously 1:1 correlate with label\n",
    "#             We can circle back and swap it out with label \n",
    "#             to see if we get any better accuracy on an \n",
    "#             on an attack type level\n",
    "for feature in non_useful_features_list:\n",
    "    if feature in df:\n",
    "        df.drop(feature, axis=1, inplace=True)  # Lets drop id as it is an internal variable to just ref an obseratio\n",
    "\n",
    "# Overwrite the existing dataframe with the new dataframe that does not contain the \n",
    "# four unwanted records and confirm we have 4 less records (shold have 82328 observations)\n",
    "if \"is_ftp_login\" in df:\n",
    "    df = df[df.is_ftp_login != 2]\n",
    "    if len(df) == 82328:\n",
    "        print \"duplicate record deleted successfully: \" + str(len(df)) + \" observations remaining\" \n",
    "\n",
    "# Check to see if non useful features still exist in dataframe, if so, we did something wrong\n",
    "for feature in non_useful_features_list:\n",
    "    if feature in df:\n",
    "        print \"[\" + feature + \"]\" + \"still found, check removal code. (Should not see this)\""
   ]
  },
  {
   "cell_type": "code",
   "execution_count": 6,
   "metadata": {
    "collapsed": false
   },
   "outputs": [
    {
     "name": "stdout",
     "output_type": "stream",
     "text": [
      "<class 'pandas.core.frame.DataFrame'>\n",
      "Int64Index: 82328 entries, 0 to 82331\n",
      "Data columns (total 43 columns):\n",
      "dur                  82328 non-null float64\n",
      "proto                82328 non-null object\n",
      "service              82328 non-null object\n",
      "state                82328 non-null object\n",
      "spkts                82328 non-null int64\n",
      "dpkts                82328 non-null int64\n",
      "sbytes               82328 non-null int64\n",
      "dbytes               82328 non-null int64\n",
      "rate                 82328 non-null float64\n",
      "sttl                 82328 non-null int64\n",
      "dttl                 82328 non-null int64\n",
      "sload                82328 non-null float64\n",
      "dload                82328 non-null float64\n",
      "sloss                82328 non-null int64\n",
      "dloss                82328 non-null int64\n",
      "sinpkt               82328 non-null float64\n",
      "dinpkt               82328 non-null float64\n",
      "sjit                 82328 non-null float64\n",
      "djit                 82328 non-null float64\n",
      "swin                 82328 non-null int64\n",
      "stcpb                82328 non-null int64\n",
      "dtcpb                82328 non-null int64\n",
      "dwin                 82328 non-null int64\n",
      "tcprtt               82328 non-null float64\n",
      "synack               82328 non-null float64\n",
      "ackdat               82328 non-null float64\n",
      "smean                82328 non-null int64\n",
      "dmean                82328 non-null int64\n",
      "trans_depth          82328 non-null int64\n",
      "response_body_len    82328 non-null int64\n",
      "ct_srv_src           82328 non-null int64\n",
      "ct_state_ttl         82328 non-null int64\n",
      "ct_dst_ltm           82328 non-null int64\n",
      "ct_src_dport_ltm     82328 non-null int64\n",
      "ct_dst_sport_ltm     82328 non-null int64\n",
      "ct_dst_src_ltm       82328 non-null int64\n",
      "is_ftp_login         82328 non-null int64\n",
      "ct_ftp_cmd           82328 non-null int64\n",
      "ct_flw_http_mthd     82328 non-null int64\n",
      "ct_src_ltm           82328 non-null int64\n",
      "ct_srv_dst           82328 non-null int64\n",
      "is_sm_ips_ports      82328 non-null int64\n",
      "label                82328 non-null int64\n",
      "dtypes: float64(11), int64(29), object(3)\n",
      "memory usage: 27.6+ MB\n"
     ]
    }
   ],
   "source": [
    "df.info()"
   ]
  },
  {
   "cell_type": "code",
   "execution_count": 7,
   "metadata": {
    "collapsed": false
   },
   "outputs": [
    {
     "data": {
      "text/html": [
       "<div>\n",
       "<table border=\"1\" class=\"dataframe\">\n",
       "  <thead>\n",
       "    <tr style=\"text-align: right;\">\n",
       "      <th></th>\n",
       "      <th>proto</th>\n",
       "      <th>service</th>\n",
       "      <th>state</th>\n",
       "    </tr>\n",
       "  </thead>\n",
       "  <tbody>\n",
       "    <tr>\n",
       "      <th>count</th>\n",
       "      <td>82328</td>\n",
       "      <td>82328</td>\n",
       "      <td>82328</td>\n",
       "    </tr>\n",
       "    <tr>\n",
       "      <th>unique</th>\n",
       "      <td>131</td>\n",
       "      <td>13</td>\n",
       "      <td>7</td>\n",
       "    </tr>\n",
       "    <tr>\n",
       "      <th>top</th>\n",
       "      <td>tcp</td>\n",
       "      <td>-</td>\n",
       "      <td>FIN</td>\n",
       "    </tr>\n",
       "    <tr>\n",
       "      <th>freq</th>\n",
       "      <td>43091</td>\n",
       "      <td>47153</td>\n",
       "      <td>39335</td>\n",
       "    </tr>\n",
       "  </tbody>\n",
       "</table>\n",
       "</div>"
      ],
      "text/plain": [
       "        proto service  state\n",
       "count   82328   82328  82328\n",
       "unique    131      13      7\n",
       "top       tcp       -    FIN\n",
       "freq    43091   47153  39335"
      ]
     },
     "execution_count": 7,
     "metadata": {},
     "output_type": "execute_result"
    }
   ],
   "source": [
    "df.describe(include=['O']) # Surround in try except incase there are no object type features"
   ]
  },
  {
   "cell_type": "markdown",
   "metadata": {},
   "source": [
    "Based on this, lets one-hot encode the above categorical variables. Note expect number of\n",
    "features to increase based on sum of unique values. so $$43 + 131 + 13 + 7 - 3 = 191$$\n",
    "Must subtract $3$ for the 3 original colums that exist"
   ]
  },
  {
   "cell_type": "code",
   "execution_count": 8,
   "metadata": {
    "collapsed": true
   },
   "outputs": [],
   "source": [
    "# http://stackoverflow.com/questions/19482970/get-list-from-pandas-dataframe-column-headers\n",
    "\n",
    "# Surrounding code in try/except on case where there are no object type features to one-hot encode\n",
    "try:\n",
    "    tmp_df = df.describe(include=['O'])  # creates a temporary df with just categorical features that are of object type\n",
    "    categorical_object_col_name_list = tmp_df.columns.values.tolist()\n",
    "    for col_name in categorical_object_col_name_list:\n",
    "        #print col_name\n",
    "        tmp_df = pd.get_dummies(df[col_name], prefix=col_name)\n",
    "        df = pd.concat((df,tmp_df), axis=1)\n",
    "        df.drop(col_name, axis=1, inplace=True)  # go ahead and drop original feature as it has now been one-hot encoded\n",
    "except ValueError as e:\n",
    "    print \"Value error({0}): \".format(e)  # Note"
   ]
  },
  {
   "cell_type": "code",
   "execution_count": 9,
   "metadata": {
    "collapsed": false
   },
   "outputs": [
    {
     "name": "stdout",
     "output_type": "stream",
     "text": [
      "<class 'pandas.core.frame.DataFrame'>\n",
      "Int64Index: 82328 entries, 0 to 82331\n",
      "Columns: 191 entries, dur to state_RST\n",
      "dtypes: float64(162), int64(29)\n",
      "memory usage: 120.6 MB\n"
     ]
    }
   ],
   "source": [
    "df.info()"
   ]
  },
  {
   "cell_type": "markdown",
   "metadata": {},
   "source": [
    "# Logistic Regression\n",
    "Now let's use Logistic Regression from `scikit-learn`. The documentation can be found here:\n",
    "\n",
    "http://scikit-learn.org/stable/modules/generated/sklearn.linear_model.LogisticRegression.html"
   ]
  },
  {
   "cell_type": "code",
   "execution_count": 30,
   "metadata": {
    "collapsed": false
   },
   "outputs": [
    {
     "name": "stdout",
     "output_type": "stream",
     "text": [
      "ShuffleSplit(82328, n_iter=3, test_size=0.2, random_state=None)\n"
     ]
    }
   ],
   "source": [
    "# we want to predict the X and y data as follows:\n",
    "if 'label' in df:\n",
    "    y = df['label'].values # get the labels we want\n",
    "    del df['label'] # get rid of the class label\n",
    "    X = df.values # use everything else to predict!\n",
    "\n",
    "    # X and y are now numpy matrices, by calling 'values' on the pandas data frames we\n",
    "    # have converted them into simple matrices to use with scikit learn\n",
    "    \n",
    "    \n",
    "# to use the cross validation object in scikit learn, we need to grab an instance\n",
    "# of the object and set it up. This object will be able to split our data into \n",
    "# training and testing splits\n",
    "num_cv_iterations = 3\n",
    "num_instances = len(y)\n",
    "cv_object = ShuffleSplit(n=num_instances,\n",
    "                         n_iter=num_cv_iterations,\n",
    "                         test_size  = 0.2)\n",
    "                         \n",
    "print cv_object"
   ]
  },
  {
   "cell_type": "code",
   "execution_count": 32,
   "metadata": {
    "collapsed": false
   },
   "outputs": [
    {
     "name": "stdout",
     "output_type": "stream",
     "text": [
      "[ 0.75337058  0.75525325  0.75482813]\n",
      "Average Accuracy across 3 shuffle split cross validation iterations = 0.754483987206\n"
     ]
    }
   ],
   "source": [
    "# first we create a reusable logisitic regression object\n",
    "# here we can setup the object with different learning parameters and constants\n",
    "lr_clf = LogisticRegression(penalty='l2', C=1.0, class_weight=None) # get object\n",
    "for train_indices, test_indices in cv_object:\n",
    "    X_train = X[train_indices]\n",
    "    y_train = y[train_indices]\n",
    "    \n",
    "    X_test = X[test_indices]\n",
    "    y_test = y[test_indices]\n",
    "    \n",
    "    # train the reusable logisitc regression model on the training data\n",
    "    lr_clf.fit(X_train,y_train)  # train object\n",
    "    y_hat = lr_clf.predict(X_test)\n",
    "\n",
    "accuracies = cross_val_score(lr_clf, X, y=y, cv=cv_object) # this also can help with parallelism\n",
    "print(accuracies)\n",
    "print \"Average Accuracy across \" + str(num_cv_iterations) + \" shuffle split cross validation iterations = \" + str(np.average(accuracies))"
   ]
  },
  {
   "cell_type": "code",
   "execution_count": 33,
   "metadata": {
    "collapsed": false
   },
   "outputs": [
    {
     "name": "stdout",
     "output_type": "stream",
     "text": [
      "[ 0.76928216  0.76715657  0.76569902]\n",
      "Average Accuracy across 3 shuffle split cross validation iterations = 0.767379246123\n"
     ]
    }
   ],
   "source": [
    "# we want to predict the X and y data as follows for df_five:\n",
    "if 'label' in df_five:\n",
    "    y_five = df_five['label'].values # get the labels we want\n",
    "    del df_five['label'] # get rid of the class label\n",
    "    X_five = df_five.values # use everything else to predict!\n",
    "\n",
    "    # X and y are now numpy matrices, by calling 'values' on the pandas data frames we\n",
    "    # have converted them into simple matrices to use with scikit learn\n",
    "    \n",
    "    \n",
    "# to use the cross validation object in scikit learn, we need to grab an instance\n",
    "# of the object and set it up. This object will be able to split our data into \n",
    "# training and testing splits\n",
    "num_cv_iterations = 3\n",
    "num_instances_five = len(y)\n",
    "cv_object_five = ShuffleSplit(n=num_instances_five,\n",
    "                         n_iter=num_cv_iterations,\n",
    "                         test_size  = 0.2)\n",
    "\n",
    "# first we create a reusable logisitic regression object\n",
    "# here we can setup the object with different learning parameters and constants\n",
    "lr_clf_five = LogisticRegression(penalty='l2', C=1.0, class_weight=None) # get object\n",
    "\n",
    "for train_indices, test_indices in cv_object_five:\n",
    "    X_train_five = X[train_indices]\n",
    "    y_train_five = y[train_indices]\n",
    "    \n",
    "    X_test_five = X[test_indices]\n",
    "    y_test_five = y[test_indices]\n",
    "    \n",
    "    # train the reusable logisitc regression model on the training data\n",
    "    lr_clf_five.fit(X_train_five, y_train_five)  # train object\n",
    "    y_hat_five = lr_clf_five.predict(X_test_five)\n",
    "    \n",
    "accuracies_five = cross_val_score(lr_clf_five, X_five, y=y_five, cv=cv_object_five) # this also can help with parallelism\n",
    "print(accuracies_five)\n",
    "print \"Average Accuracy across \" + str(num_cv_iterations) + \" shuffle split cross validation iterations = \" + str(np.average(accuracies_five))"
   ]
  },
  {
   "cell_type": "markdown",
   "metadata": {},
   "source": [
    "Tried \"`l1`\" and \"`l2`\", a '`C`' as high as 2.0 and as low as 0.05, and `class_weight` of \"None\" and \"Balanced\" and still got the best accuracy with the this `lr_clf = LogisticRegression(penalty='l2', C=1.0, class_weight=None)` model"
   ]
  },
  {
   "cell_type": "markdown",
   "metadata": {},
   "source": [
    "### Analysis:\n",
    "    We see that the five-feature model performs slightly better (one percent on average) than the kitchen sink model, 76.8% to 75.3%, respectively. Interpretting the weights of each model may give us insight as to why there is a difference"
   ]
  },
  {
   "cell_type": "markdown",
   "metadata": {},
   "source": [
    "## Interpretting weights\n",
    "Okay, so now lets take the models for logistic regression and try to interpret the weights."
   ]
  },
  {
   "cell_type": "code",
   "execution_count": 36,
   "metadata": {
    "collapsed": false
   },
   "outputs": [
    {
     "name": "stdout",
     "output_type": "stream",
     "text": [
      "(u'dur', 'has weight of', 8.68028522203702e-11)\n",
      "(u'spkts', 'has weight of', 9.9251135755035939e-10)\n",
      "(u'dpkts', 'has weight of', 1.5465338391157435e-09)\n",
      "(u'sbytes', 'has weight of', 1.2033775050618821e-06)\n",
      "(u'dbytes', 'has weight of', 2.335357996058891e-06)\n",
      "(u'rate', 'has weight of', 9.1317862452710543e-06)\n",
      "(u'sttl', 'has weight of', 2.5011956271733406e-08)\n",
      "(u'dttl', 'has weight of', 6.3909157966725779e-09)\n",
      "(u'sload', 'has weight of', -1.8773042163582781e-09)\n",
      "(u'dload', 'has weight of', -2.7441702712699513e-06)\n",
      "(u'sloss', 'has weight of', 3.8852143902106041e-10)\n",
      "(u'dloss', 'has weight of', 8.7355995193033847e-10)\n",
      "(u'sinpkt', 'has weight of', -4.3227869279958647e-07)\n",
      "(u'dinpkt', 'has weight of', -1.6362855068104674e-08)\n",
      "(u'sjit', 'has weight of', -1.581296867364659e-07)\n",
      "(u'djit', 'has weight of', 2.0084064039401869e-08)\n",
      "(u'swin', 'has weight of', -5.3377528046987095e-09)\n",
      "(u'stcpb', 'has weight of', -2.1194158561685808e-11)\n",
      "(u'dtcpb', 'has weight of', -3.2455592396256935e-11)\n",
      "(u'dwin', 'has weight of', -1.019976862874151e-09)\n",
      "(u'tcprtt', 'has weight of', -4.605256590144888e-12)\n",
      "(u'synack', 'has weight of', -3.5468553271223033e-12)\n",
      "(u'ackdat', 'has weight of', -1.0584012630226002e-12)\n",
      "(u'smean', 'has weight of', 2.5591511130281564e-09)\n",
      "(u'dmean', 'has weight of', 1.453135491926664e-08)\n",
      "(u'trans_depth', 'has weight of', 7.8230657238292939e-12)\n",
      "(u'response_body_len', 'has weight of', 2.610083323020877e-07)\n",
      "(u'ct_srv_src', 'has weight of', 1.5693912184103799e-09)\n",
      "(u'ct_state_ttl', 'has weight of', 1.1408529398367517e-10)\n",
      "(u'ct_dst_ltm', 'has weight of', 1.0584676508306068e-09)\n",
      "(u'ct_src_dport_ltm', 'has weight of', 1.2895907992662204e-09)\n",
      "(u'ct_dst_sport_ltm', 'has weight of', 1.067708301282111e-09)\n",
      "(u'ct_dst_src_ltm', 'has weight of', 1.2399822761993554e-09)\n",
      "(u'is_ftp_login', 'has weight of', 3.8826564597001926e-13)\n",
      "(u'ct_ftp_cmd', 'has weight of', 3.4154267933549821e-13)\n",
      "(u'ct_flw_http_mthd', 'has weight of', -9.2249644567687895e-12)\n",
      "(u'ct_src_ltm', 'has weight of', 1.1971578216489056e-09)\n",
      "(u'ct_srv_dst', 'has weight of', 1.5605186318317348e-09)\n",
      "(u'is_sm_ips_ports', 'has weight of', -7.2870125094805439e-12)\n",
      "(u'proto_3pc', 'has weight of', 2.1114206390589958e-13)\n",
      "(u'proto_a/n', 'has weight of', 7.6418931317439674e-14)\n",
      "(u'proto_aes-sp3-d', 'has weight of', 1.8029535725836371e-13)\n",
      "(u'proto_any', 'has weight of', 4.5238296583053326e-13)\n",
      "(u'proto_argus', 'has weight of', 1.8342143201105898e-13)\n",
      "(u'proto_aris', 'has weight of', 1.8515310476991037e-13)\n",
      "(u'proto_arp', 'has weight of', -7.8422623613251974e-12)\n",
      "(u'proto_ax.25', 'has weight of', 1.7478596563820434e-13)\n",
      "(u'proto_bbn-rcc', 'has weight of', 1.3374074766604242e-13)\n",
      "(u'proto_bna', 'has weight of', 1.1845197938611333e-13)\n",
      "(u'proto_br-sat-mon', 'has weight of', 1.9608072396888311e-13)\n",
      "(u'proto_cbt', 'has weight of', 2.5454263239642654e-13)\n",
      "(u'proto_cftp', 'has weight of', 2.012531598170117e-13)\n",
      "(u'proto_chaos', 'has weight of', 1.6311051413273426e-13)\n",
      "(u'proto_compaq-peer', 'has weight of', 1.8215662910835367e-13)\n",
      "(u'proto_cphb', 'has weight of', 1.242714576123727e-13)\n",
      "(u'proto_cpnx', 'has weight of', 2.0377962913100425e-13)\n",
      "(u'proto_crtp', 'has weight of', 1.0720183584501531e-13)\n",
      "(u'proto_crudp', 'has weight of', 8.0531610850820552e-14)\n",
      "(u'proto_dcn', 'has weight of', 1.6007828399369428e-13)\n",
      "(u'proto_ddp', 'has weight of', 1.6380909120146627e-13)\n",
      "(u'proto_ddx', 'has weight of', 1.2243779110575556e-13)\n",
      "(u'proto_dgp', 'has weight of', 1.1844029319870989e-13)\n",
      "(u'proto_egp', 'has weight of', 1.2817566369562216e-13)\n",
      "(u'proto_eigrp', 'has weight of', 1.1650901819412384e-13)\n",
      "(u'proto_emcon', 'has weight of', 1.1255946537627494e-13)\n",
      "(u'proto_encap', 'has weight of', 1.409853725212584e-13)\n",
      "(u'proto_etherip', 'has weight of', 1.0600313902634866e-13)\n",
      "(u'proto_fc', 'has weight of', 1.9780497407297347e-13)\n",
      "(u'proto_fire', 'has weight of', 7.2269240539418053e-14)\n",
      "(u'proto_ggp', 'has weight of', 1.4716293159945089e-13)\n",
      "(u'proto_gmtp', 'has weight of', 1.6380667373063661e-13)\n",
      "(u'proto_gre', 'has weight of', 4.7212345940763687e-13)\n",
      "(u'proto_hmp', 'has weight of', 1.7259645135733014e-13)\n",
      "(u'proto_i-nlsp', 'has weight of', 1.3362016379392546e-13)\n",
      "(u'proto_iatp', 'has weight of', 1.6338833985453821e-13)\n",
      "(u'proto_ib', 'has weight of', 2.0586929894135807e-13)\n",
      "(u'proto_idpr', 'has weight of', 1.0605049696355192e-13)\n",
      "(u'proto_idpr-cmtp', 'has weight of', 1.5129501618776289e-13)\n",
      "(u'proto_idrp', 'has weight of', 1.4687139759533692e-13)\n",
      "(u'proto_ifmp', 'has weight of', 1.0794785602499604e-13)\n",
      "(u'proto_igmp', 'has weight of', -2.415710662952698e-13)\n",
      "(u'proto_igp', 'has weight of', 1.484516078846311e-13)\n",
      "(u'proto_il', 'has weight of', 2.1576866534768112e-13)\n",
      "(u'proto_ip', 'has weight of', 1.184900928004547e-13)\n",
      "(u'proto_ipcomp', 'has weight of', 1.8427448202220306e-13)\n",
      "(u'proto_ipcv', 'has weight of', 9.0750823723090796e-14)\n",
      "(u'proto_ipip', 'has weight of', 1.9355425442728185e-13)\n",
      "(u'proto_iplt', 'has weight of', 1.5382816177315092e-13)\n",
      "(u'proto_ipnip', 'has weight of', 1.1897398078245756e-13)\n",
      "(u'proto_ippc', 'has weight of', 1.0547051219136488e-13)\n",
      "(u'proto_ipv6', 'has weight of', 2.3301692536601898e-13)\n",
      "(u'proto_ipv6-frag', 'has weight of', 1.8144381299996983e-13)\n",
      "(u'proto_ipv6-no', 'has weight of', 1.3934308237508304e-13)\n",
      "(u'proto_ipv6-opts', 'has weight of', 1.3186272727677706e-13)\n",
      "(u'proto_ipv6-route', 'has weight of', 1.7093330306102333e-13)\n",
      "(u'proto_ipx-n-ip', 'has weight of', 1.6189691140083995e-13)\n",
      "(u'proto_irtp', 'has weight of', 1.3848737105691976e-13)\n",
      "(u'proto_isis', 'has weight of', 1.2556106063949645e-13)\n",
      "(u'proto_iso-ip', 'has weight of', 8.3436803669874526e-14)\n",
      "(u'proto_iso-tp4', 'has weight of', 1.5129501652869136e-13)\n",
      "(u'proto_kryptolan', 'has weight of', 1.5655133811420552e-13)\n",
      "(u'proto_l2tp', 'has weight of', 2.0137912736353925e-13)\n",
      "(u'proto_larp', 'has weight of', 1.7694733284730178e-13)\n",
      "(u'proto_leaf-1', 'has weight of', 9.6530013949941516e-14)\n",
      "(u'proto_leaf-2', 'has weight of', 1.5752485708985969e-13)\n",
      "(u'proto_merit-inp', 'has weight of', 1.3622520275033807e-13)\n",
      "(u'proto_mfe-nsp', 'has weight of', 1.330110496878482e-13)\n",
      "(u'proto_mhrp', 'has weight of', 1.7903874891205027e-13)\n",
      "(u'proto_micp', 'has weight of', 1.2670445872583445e-13)\n",
      "(u'proto_mobile', 'has weight of', 3.0529845607265027e-13)\n",
      "(u'proto_mtp', 'has weight of', 9.6402639200998524e-14)\n",
      "(u'proto_mux', 'has weight of', 2.5454102881172993e-13)\n",
      "(u'proto_narp', 'has weight of', 1.7586857569921947e-13)\n",
      "(u'proto_netblt', 'has weight of', 2.0806975933052291e-13)\n",
      "(u'proto_nsfnet-igp', 'has weight of', 1.4250698582599479e-13)\n",
      "(u'proto_nvp', 'has weight of', 1.7307209448060443e-13)\n",
      "(u'proto_ospf', 'has weight of', 4.5810659914952934e-12)\n",
      "(u'proto_pgm', 'has weight of', 1.7405118326520642e-13)\n",
      "(u'proto_pim', 'has weight of', 2.8756905120528734e-13)\n",
      "(u'proto_pipe', 'has weight of', 1.6026326957051751e-13)\n",
      "(u'proto_pnni', 'has weight of', 1.6486779339873811e-13)\n",
      "(u'proto_pri-enc', 'has weight of', 1.1893641666294165e-13)\n",
      "(u'proto_prm', 'has weight of', 1.7217373499473349e-13)\n",
      "(u'proto_ptp', 'has weight of', 1.4250698535443843e-13)\n",
      "(u'proto_pup', 'has weight of', 1.0762777411844548e-13)\n",
      "(u'proto_pvp', 'has weight of', 2.1530322244962019e-13)\n",
      "(u'proto_qnx', 'has weight of', 1.2855105264760576e-13)\n",
      "(u'proto_rdp', 'has weight of', 5.536880541031427e-14)\n",
      "(u'proto_rsvp', 'has weight of', 1.9273392661062657e-13)\n",
      "(u'proto_rvd', 'has weight of', 2.5459720903691941e-13)\n",
      "(u'proto_sat-expak', 'has weight of', 1.5094369855024451e-13)\n",
      "(u'proto_sat-mon', 'has weight of', 1.8745503212919169e-13)\n",
      "(u'proto_sccopmce', 'has weight of', 1.3598378158360448e-13)\n",
      "(u'proto_scps', 'has weight of', 1.4490748720809589e-13)\n",
      "(u'proto_sctp', 'has weight of', 2.008921902788649e-12)\n",
      "(u'proto_sdrp', 'has weight of', 1.7195659946961717e-13)\n",
      "(u'proto_secure-vmtp', 'has weight of', 1.6476481209364563e-13)\n",
      "(u'proto_sep', 'has weight of', 2.7575650348066659e-13)\n",
      "(u'proto_skip', 'has weight of', 1.9399540743819005e-13)\n",
      "(u'proto_sm', 'has weight of', 1.2776236713999427e-13)\n",
      "(u'proto_smp', 'has weight of', 1.6690629360827105e-13)\n",
      "(u'proto_snp', 'has weight of', 1.0743082410884021e-13)\n",
      "(u'proto_sprite-rpc', 'has weight of', 1.5740284597447034e-13)\n",
      "(u'proto_sps', 'has weight of', 1.4296896992229351e-13)\n",
      "(u'proto_srp', 'has weight of', 1.1711120917191104e-13)\n",
      "(u'proto_st2', 'has weight of', 2.9370164137931318e-13)\n",
      "(u'proto_stp', 'has weight of', 7.4426144692138308e-14)\n",
      "(u'proto_sun-nd', 'has weight of', 3.8457236563379768e-13)\n",
      "(u'proto_swipe', 'has weight of', 3.5561524059342182e-13)\n",
      "(u'proto_tcf', 'has weight of', 1.115962641274902e-13)\n",
      "(u'proto_tcp', 'has weight of', -2.097548696414375e-11)\n",
      "(u'proto_tlsp', 'has weight of', 1.3937712717817821e-13)\n",
      "(u'proto_tp++', 'has weight of', 1.9534386473014066e-13)\n",
      "(u'proto_trunk-1', 'has weight of', 1.6489754401716362e-13)\n",
      "(u'proto_trunk-2', 'has weight of', 1.7682261254283617e-13)\n",
      "(u'proto_ttp', 'has weight of', 1.4978365404085376e-13)\n",
      "(u'proto_udp', 'has weight of', 5.2440063351803035e-11)\n",
      "(u'proto_unas', 'has weight of', 1.6970885219795338e-11)\n",
      "(u'proto_uti', 'has weight of', 1.5084071637133201e-13)\n",
      "(u'proto_vines', 'has weight of', 1.6421977790424418e-13)\n",
      "(u'proto_visa', 'has weight of', 7.9763543510239189e-14)\n",
      "(u'proto_vmtp', 'has weight of', 1.7995616918731034e-13)\n",
      "(u'proto_vrrp', 'has weight of', 1.9493732537572662e-13)\n",
      "(u'proto_wb-expak', 'has weight of', 1.6490170978464874e-13)\n",
      "(u'proto_wb-mon', 'has weight of', 1.7245730472299797e-13)\n",
      "(u'proto_wsn', 'has weight of', 1.2593459587929298e-13)\n",
      "(u'proto_xnet', 'has weight of', 1.4143192918688729e-13)\n",
      "(u'proto_xns-idp', 'has weight of', 1.1096479242335562e-13)\n",
      "(u'proto_xtp', 'has weight of', 1.7656112426956837e-13)\n",
      "(u'proto_zero', 'has weight of', 1.9848578850956085e-13)\n",
      "(u'service_-', 'has weight of', -3.5959345117550929e-11)\n",
      "(u'service_dhcp', 'has weight of', 1.9580546700175507e-13)\n",
      "(u'service_dns', 'has weight of', 7.8816231044234822e-11)\n",
      "(u'service_ftp', 'has weight of', 1.5287059666207629e-12)\n",
      "(u'service_ftp-data', 'has weight of', -4.2385496428519879e-13)\n",
      "(u'service_http', 'has weight of', 1.2664126279334541e-11)\n",
      "(u'service_irc', 'has weight of', 4.2373428056817292e-14)\n",
      "(u'service_pop3', 'has weight of', 4.3365757545839842e-12)\n",
      "(u'service_radius', 'has weight of', 2.9298838036185914e-14)\n",
      "(u'service_smtp', 'has weight of', 6.7462922350786339e-12)\n",
      "(u'service_snmp', 'has weight of', 1.4609777009284813e-13)\n",
      "(u'service_ssh', 'has weight of', -8.5965217094458511e-13)\n",
      "(u'service_ssl', 'has weight of', 2.1048545974009033e-13)\n",
      "(u'state_ACC', 'has weight of', 8.795760395956672e-15)\n",
      "(u'state_CLO', 'has weight of', 1.0423828708787159e-14)\n",
      "(u'state_CON', 'has weight of', -2.7269048574275866e-11)\n",
      "(u'state_FIN', 'has weight of', 9.8837055825703198e-12)\n",
      "(u'state_INT', 'has weight of', 1.0111679439918703e-10)\n",
      "(u'state_REQ', 'has weight of', -1.6267767554032943e-11)\n",
      "(u'state_RST', 'has weight of', -9.7634525516081585e-15)\n"
     ]
    }
   ],
   "source": [
    "# Kitchen Sink Model\n",
    "weights = lr_clf.coef_.T # take transpose to make a column vector\n",
    "variable_names = df.columns\n",
    "weight_list = []\n",
    "for coef, name in zip(weights,variable_names):\n",
    "    print(name, 'has weight of', coef[0])"
   ]
  },
  {
   "cell_type": "code",
   "execution_count": 27,
   "metadata": {
    "collapsed": false
   },
   "outputs": [
    {
     "name": "stdout",
     "output_type": "stream",
     "text": [
      "('sttl', 'has weight of', 5.751360385208197e-11)\n",
      "('ct_dst_sport_ltm', 'has weight of', 7.7476185500195847e-10)\n",
      "('ct_src_dport_ltm', 'has weight of', 1.107544085374592e-09)\n",
      "('swin', 'has weight of', 8.2713421852892032e-07)\n",
      "('dwin', 'has weight of', 1.6031127070757823e-06)\n"
     ]
    }
   ],
   "source": [
    "# Five-feature Model\n",
    "weights = lr_clf_five.coef_.T # take transpose to make a column vector\n",
    "variable_names = df_five.columns\n",
    "for coef, name in zip(weights,variable_names):\n",
    "    print(name, 'has weight of', coef[0])"
   ]
  },
  {
   "cell_type": "markdown",
   "metadata": {},
   "source": [
    "These weight interpretations are not neccessarily interpretable because of the values we had. Very large/small attribute values could just as easily be assigned a higher weight. Instead, let's normalize the feature values so that all the attributes are on the same dynamic range. Once we normalize the attributes, the weights should have magnitudes that reflect their predictive power in the logistic regression model.\n"
   ]
  },
  {
   "cell_type": "code",
   "execution_count": 40,
   "metadata": {
    "collapsed": false
   },
   "outputs": [
    {
     "name": "stdout",
     "output_type": "stream",
     "text": [
      "('accuracy:', 0.91874164945949233)\n",
      "[[6790  639]\n",
      " [ 699 8338]]\n",
      "top features based on largest postive weights (normalized) (Largest to smallest)\n",
      "(u'dttl', 4.1113494938565545)\n",
      "top features based on largest negative weights (normalized) (Smallest to Largest)\n",
      "(u'ct_dst_src_ltm', -4.2485540523456828)\n"
     ]
    }
   ],
   "source": [
    "# Kitchen Sink Model\n",
    "\n",
    "# we want to normalize the features based upon the mean and standard deviation of each column. \n",
    "# However, we do not want to accidentally use the testing data to find out the mean and std (this would be snooping)\n",
    "# to Make things easier, let's start by just using whatever was last stored in the variables:\n",
    "##    X_train , y_train , X_test, y_test (they were set in a for loop above)\n",
    "\n",
    "# scale attributes by the training set\n",
    "scl_obj = StandardScaler()\n",
    "scl_obj.fit(X_train) # find scalings for each column that make this zero mean and unit std\n",
    "# the line of code above only looks at training data to get mean and std and we can use it \n",
    "# to transform new feature data\n",
    "\n",
    "X_train_scaled = scl_obj.transform(X_train) # apply to training\n",
    "X_test_scaled = scl_obj.transform(X_test) # apply those means and std to the test set (without snooping at the test set values)\n",
    "\n",
    "# train the model just as before\n",
    "lr_clf = LogisticRegression(penalty='l2', C=0.05) # get object, the 'C' value is less (can you guess why??)\n",
    "lr_clf.fit(X_train_scaled,y_train)  # train object\n",
    "\n",
    "y_hat = lr_clf.predict(X_test_scaled) # get test set precitions\n",
    "\n",
    "acc = mt.accuracy_score(y_test,y_hat)\n",
    "conf = mt.confusion_matrix(y_test,y_hat)\n",
    "print('accuracy:', acc )\n",
    "print(conf )\n",
    "\n",
    "# sort these attributes and spit them out\n",
    "zip_vars = zip(lr_clf.coef_.T,df.columns) # combine attributes\n",
    "zip_vars.sort(key = lambda t: np.abs(t[0])) # sort them by the magnitude of the weight\n",
    "weight_list_normalized = []\n",
    "for coef, name in zip_vars:\n",
    "    #print(name, 'has weight of', coef[0]) # now print them out\n",
    "    weight_list_normalized.append((name, coef[0]))  \n",
    "    \n",
    "    \n",
    "weight_list_normalized.sort(key=lambda x:x[1])\n",
    "print \"top features based on largest postive weights (normalized) (Largest to smallest)\"\n",
    "print weight_list_normalized[-1]\n",
    "\n",
    "print \"top features based on largest negative weights (normalized) (Smallest to Largest)\"\n",
    "print weight_list_normalized[0]"
   ]
  },
  {
   "cell_type": "code",
   "execution_count": 50,
   "metadata": {
    "collapsed": false
   },
   "outputs": [
    {
     "data": {
      "image/png": "iVBORw0KGgoAAAANSUhEUgAAAf4AAAG6CAYAAADppiRfAAAABHNCSVQICAgIfAhkiAAAAAlwSFlz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\n",
      "text/plain": [
       "<matplotlib.figure.Figure at 0xd02a668>"
      ]
     },
     "metadata": {},
     "output_type": "display_data"
    }
   ],
   "source": [
    "std_scl = StandardScaler()\n",
    "lr_clf = LogisticRegression(penalty='l2', C=0.05) \n",
    "threshold = 1 \n",
    "# create the pipline\n",
    "piped_object = Pipeline([('scale', std_scl), ('logit_model', lr_clf)])\n",
    "\n",
    "# run the pipline corssvalidated\n",
    "for iter_num, (train_indices, test_indices) in enumerate(cv_object):\n",
    "    piped_object.fit(X[train_indices],y[train_indices])  # train object\n",
    "    \n",
    "# it is a little odd getting trained objects from a  pipeline:\n",
    "trained_model_from_pipeline = piped_object.named_steps['logit_model']\n",
    "\n",
    "# now look at the weights\n",
    "weights = pd.Series(trained_model_from_pipeline.coef_[0],index=df.columns)\n",
    "temp_df = pd.DataFrame(weights)\n",
    "temp_df = temp_df[(temp_df[0] > threshold) | (temp_df[0] < (-1 * threshold))]\n",
    "weights = temp_df[0]\n",
    "weights.plot(kind='bar')\n",
    "plt.show()"
   ]
  },
  {
   "cell_type": "code",
   "execution_count": 45,
   "metadata": {
    "collapsed": false
   },
   "outputs": [
    {
     "name": "stdout",
     "output_type": "stream",
     "text": [
      "('accuracy:', 0.91983481112595655)\n",
      "[[6787  644]\n",
      " [ 676 8359]]\n",
      "top features based on largest postive weights (normalized) (Largest to smallest)\n",
      "('ct_src_dport_ltm', 0.84148426654843544)\n",
      "top features based on largest negative weights (normalized) (Smallest to Largest)\n",
      "('dwin', -1.2041302578363196)\n"
     ]
    }
   ],
   "source": [
    "# Five-Feature Model\n",
    "\n",
    "# we want to normalize the features based upon the mean and standard deviation of each column. \n",
    "# However, we do not want to accidentally use the testing data to find out the mean and std (this would be snooping)\n",
    "# to Make things easier, let's start by just using whatever was last stored in the variables:\n",
    "##    X_train , y_train , X_test, y_test (they were set in a for loop above)\n",
    "\n",
    "# scale attributes by the training set\n",
    "scl_obj = StandardScaler()\n",
    "scl_obj.fit(X_train_five) # find scalings for each column that make this zero mean and unit std\n",
    "# the line of code above only looks at training data to get mean and std and we can use it \n",
    "# to transform new feature data\n",
    "\n",
    "X_train_scaled = scl_obj.transform(X_train_five) # apply to training\n",
    "X_test_scaled = scl_obj.transform(X_test_five) # apply those means and std to the test set (without snooping at the test set values)\n",
    "\n",
    "# train the model just as before\n",
    "lr_clf = LogisticRegression(penalty='l2', C=0.05) # get object, the 'C' value is less (can you guess why??)\n",
    "lr_clf.fit(X_train_scaled,y_train_five)  # train object\n",
    "\n",
    "y_hat = lr_clf.predict(X_test_scaled) # get test set precitions\n",
    "\n",
    "acc = mt.accuracy_score(y_test_five,y_hat)\n",
    "conf = mt.confusion_matrix(y_test_five,y_hat)\n",
    "print('accuracy:', acc )\n",
    "print(conf )\n",
    "\n",
    "# sort these attributes and spit them out\n",
    "zip_vars = zip(lr_clf.coef_.T,df_five.columns) # combine attributes\n",
    "zip_vars.sort(key = lambda t: np.abs(t[0])) # sort them by the magnitude of the weight\n",
    "weight_list_normalized = []\n",
    "for coef, name in zip_vars:\n",
    "    weight_list_normalized.append((name, coef[0]))  \n",
    "    \n",
    "    \n",
    "weight_list_normalized.sort(key=lambda x:x[1])\n",
    "print \"top features based on largest postive weights (normalized) (Largest to smallest)\"\n",
    "print weight_list_normalized[-1]\n",
    "\n",
    "print \"top features based on largest negative weights (normalized) (Smallest to Largest)\"\n",
    "print weight_list_normalized[0]\n",
    "\n"
   ]
  },
  {
   "cell_type": "code",
   "execution_count": 52,
   "metadata": {
    "collapsed": false
   },
   "outputs": [
    {
     "ename": "ValueError",
     "evalue": "Wrong number of items passed 190, placement implies 5",
     "output_type": "error",
     "traceback": [
      "\u001b[0;31m---------------------------------------------------------------------------\u001b[0m",
      "\u001b[0;31mValueError\u001b[0m                                Traceback (most recent call last)",
      "\u001b[0;32m<ipython-input-52-244a4ce1d4d6>\u001b[0m in \u001b[0;36m<module>\u001b[0;34m()\u001b[0m\n\u001b[1;32m     13\u001b[0m \u001b[1;33m\u001b[0m\u001b[0m\n\u001b[1;32m     14\u001b[0m \u001b[1;31m# now look at the weights\u001b[0m\u001b[1;33m\u001b[0m\u001b[1;33m\u001b[0m\u001b[0m\n\u001b[0;32m---> 15\u001b[0;31m \u001b[0mweights\u001b[0m \u001b[1;33m=\u001b[0m \u001b[0mpd\u001b[0m\u001b[1;33m.\u001b[0m\u001b[0mSeries\u001b[0m\u001b[1;33m(\u001b[0m\u001b[0mtrained_model_from_pipeline\u001b[0m\u001b[1;33m.\u001b[0m\u001b[0mcoef_\u001b[0m\u001b[1;33m[\u001b[0m\u001b[1;36m0\u001b[0m\u001b[1;33m]\u001b[0m\u001b[1;33m,\u001b[0m\u001b[0mindex\u001b[0m\u001b[1;33m=\u001b[0m\u001b[0mdf_five\u001b[0m\u001b[1;33m.\u001b[0m\u001b[0mcolumns\u001b[0m\u001b[1;33m)\u001b[0m\u001b[1;33m\u001b[0m\u001b[0m\n\u001b[0m\u001b[1;32m     16\u001b[0m \u001b[0mtemp_df\u001b[0m \u001b[1;33m=\u001b[0m \u001b[0mpd\u001b[0m\u001b[1;33m.\u001b[0m\u001b[0mDataFrame\u001b[0m\u001b[1;33m(\u001b[0m\u001b[0mweights\u001b[0m\u001b[1;33m)\u001b[0m\u001b[1;33m\u001b[0m\u001b[0m\n\u001b[1;32m     17\u001b[0m \u001b[0mtemp_df\u001b[0m \u001b[1;33m=\u001b[0m \u001b[0mtemp_df\u001b[0m\u001b[1;33m[\u001b[0m\u001b[1;33m(\u001b[0m\u001b[0mtemp_df\u001b[0m\u001b[1;33m[\u001b[0m\u001b[1;36m0\u001b[0m\u001b[1;33m]\u001b[0m \u001b[1;33m>\u001b[0m \u001b[0mthreshold\u001b[0m\u001b[1;33m)\u001b[0m \u001b[1;33m|\u001b[0m \u001b[1;33m(\u001b[0m\u001b[0mtemp_df\u001b[0m\u001b[1;33m[\u001b[0m\u001b[1;36m0\u001b[0m\u001b[1;33m]\u001b[0m \u001b[1;33m<\u001b[0m \u001b[1;33m(\u001b[0m\u001b[1;33m-\u001b[0m\u001b[1;36m1\u001b[0m \u001b[1;33m*\u001b[0m \u001b[0mthreshold\u001b[0m\u001b[1;33m)\u001b[0m\u001b[1;33m)\u001b[0m\u001b[1;33m]\u001b[0m\u001b[1;33m\u001b[0m\u001b[0m\n",
      "\u001b[0;32mE:\\anaconda\\envs\\py27\\lib\\site-packages\\pandas\\core\\series.pyc\u001b[0m in \u001b[0;36m__init__\u001b[0;34m(self, data, index, dtype, name, copy, fastpath)\u001b[0m\n\u001b[1;32m    227\u001b[0m \u001b[1;33m\u001b[0m\u001b[0m\n\u001b[1;32m    228\u001b[0m             \u001b[1;32mif\u001b[0m \u001b[0mindex\u001b[0m \u001b[1;32mis\u001b[0m \u001b[0mNone\u001b[0m\u001b[1;33m:\u001b[0m\u001b[1;33m\u001b[0m\u001b[0m\n\u001b[0;32m--> 229\u001b[0;31m                 \u001b[1;32mif\u001b[0m \u001b[1;32mnot\u001b[0m \u001b[0mis_list_like\u001b[0m\u001b[1;33m(\u001b[0m\u001b[0mdata\u001b[0m\u001b[1;33m)\u001b[0m\u001b[1;33m:\u001b[0m\u001b[1;33m\u001b[0m\u001b[0m\n\u001b[0m\u001b[1;32m    230\u001b[0m                     \u001b[0mdata\u001b[0m \u001b[1;33m=\u001b[0m \u001b[1;33m[\u001b[0m\u001b[0mdata\u001b[0m\u001b[1;33m]\u001b[0m\u001b[1;33m\u001b[0m\u001b[0m\n\u001b[1;32m    231\u001b[0m                 \u001b[0mindex\u001b[0m \u001b[1;33m=\u001b[0m \u001b[0m_default_index\u001b[0m\u001b[1;33m(\u001b[0m\u001b[0mlen\u001b[0m\u001b[1;33m(\u001b[0m\u001b[0mdata\u001b[0m\u001b[1;33m)\u001b[0m\u001b[1;33m)\u001b[0m\u001b[1;33m\u001b[0m\u001b[0m\n",
      "\u001b[0;32mE:\\anaconda\\envs\\py27\\lib\\site-packages\\pandas\\core\\internals.pyc\u001b[0m in \u001b[0;36m__init__\u001b[0;34m(self, block, axis, do_integrity_check, fastpath)\u001b[0m\n\u001b[1;32m   3815\u001b[0m         \u001b[1;32mif\u001b[0m \u001b[1;32mnot\u001b[0m \u001b[0mallow_dups\u001b[0m\u001b[1;33m:\u001b[0m\u001b[1;33m\u001b[0m\u001b[0m\n\u001b[1;32m   3816\u001b[0m             \u001b[0mself\u001b[0m\u001b[1;33m.\u001b[0m\u001b[0maxes\u001b[0m\u001b[1;33m[\u001b[0m\u001b[0maxis\u001b[0m\u001b[1;33m]\u001b[0m\u001b[1;33m.\u001b[0m\u001b[0m_can_reindex\u001b[0m\u001b[1;33m(\u001b[0m\u001b[0mindexer\u001b[0m\u001b[1;33m)\u001b[0m\u001b[1;33m\u001b[0m\u001b[0m\n\u001b[0;32m-> 3817\u001b[0;31m \u001b[1;33m\u001b[0m\u001b[0m\n\u001b[0m\u001b[1;32m   3818\u001b[0m         \u001b[1;32mif\u001b[0m \u001b[0maxis\u001b[0m \u001b[1;33m>=\u001b[0m \u001b[0mself\u001b[0m\u001b[1;33m.\u001b[0m\u001b[0mndim\u001b[0m\u001b[1;33m:\u001b[0m\u001b[1;33m\u001b[0m\u001b[0m\n\u001b[1;32m   3819\u001b[0m             \u001b[1;32mraise\u001b[0m \u001b[0mIndexError\u001b[0m\u001b[1;33m(\u001b[0m\u001b[1;34m\"Requested axis not found in manager\"\u001b[0m\u001b[1;33m)\u001b[0m\u001b[1;33m\u001b[0m\u001b[0m\n",
      "\u001b[0;32mE:\\anaconda\\envs\\py27\\lib\\site-packages\\pandas\\core\\internals.pyc\u001b[0m in \u001b[0;36mmake_block\u001b[0;34m(values, placement, klass, ndim, dtype, fastpath)\u001b[0m\n\u001b[1;32m   2516\u001b[0m         return self.make_block_same_class(values=values,\n\u001b[1;32m   2517\u001b[0m                                           placement=self.mgr_locs)\n\u001b[0;32m-> 2518\u001b[0;31m \u001b[1;33m\u001b[0m\u001b[0m\n\u001b[0m\u001b[1;32m   2519\u001b[0m     \u001b[1;32mdef\u001b[0m \u001b[0m__len__\u001b[0m\u001b[1;33m(\u001b[0m\u001b[0mself\u001b[0m\u001b[1;33m)\u001b[0m\u001b[1;33m:\u001b[0m\u001b[1;33m\u001b[0m\u001b[0m\n\u001b[1;32m   2520\u001b[0m         \u001b[1;32mtry\u001b[0m\u001b[1;33m:\u001b[0m\u001b[1;33m\u001b[0m\u001b[0m\n",
      "\u001b[0;32mE:\\anaconda\\envs\\py27\\lib\\site-packages\\pandas\\core\\internals.pyc\u001b[0m in \u001b[0;36m__init__\u001b[0;34m(self, values, placement, ndim, fastpath)\u001b[0m\n\u001b[1;32m     88\u001b[0m     \u001b[0m_box_to_block_values\u001b[0m \u001b[1;33m=\u001b[0m \u001b[0mTrue\u001b[0m\u001b[1;33m\u001b[0m\u001b[0m\n\u001b[1;32m     89\u001b[0m     \u001b[0m_can_hold_na\u001b[0m \u001b[1;33m=\u001b[0m \u001b[0mFalse\u001b[0m\u001b[1;33m\u001b[0m\u001b[0m\n\u001b[0;32m---> 90\u001b[0;31m     \u001b[0m_downcast_dtype\u001b[0m \u001b[1;33m=\u001b[0m \u001b[0mNone\u001b[0m\u001b[1;33m\u001b[0m\u001b[0m\n\u001b[0m\u001b[1;32m     91\u001b[0m     \u001b[0m_can_consolidate\u001b[0m \u001b[1;33m=\u001b[0m \u001b[0mTrue\u001b[0m\u001b[1;33m\u001b[0m\u001b[0m\n\u001b[1;32m     92\u001b[0m     \u001b[0m_verify_integrity\u001b[0m \u001b[1;33m=\u001b[0m \u001b[0mTrue\u001b[0m\u001b[1;33m\u001b[0m\u001b[0m\n",
      "\u001b[0;31mValueError\u001b[0m: Wrong number of items passed 190, placement implies 5"
     ]
    }
   ],
   "source": [
    "std_scl = StandardScaler()\n",
    "lr_clf = LogisticRegression(penalty='l2', C=0.05) \n",
    "\n",
    "# create the pipline\n",
    "piped_object = Pipeline([('scale', std_scl), ('logit_model', lr_clf)])\n",
    "threshold = 1 \n",
    "# run the pipline corssvalidated\n",
    "for iter_num, (train_indices, test_indices) in enumerate(cv_object):\n",
    "    piped_object.fit(X[train_indices],y[train_indices])  # train object\n",
    "    \n",
    "# it is a little odd getting trained objects from a  pipeline:\n",
    "trained_model_from_pipeline = piped_object.named_steps['logit_model']\n",
    "\n",
    "# now look at the weights\n",
    "weights = pd.Series(trained_model_from_pipeline.coef_[0],index=df_five.columns)\n",
    "temp_df = pd.DataFrame(weights)\n",
    "temp_df = temp_df[(temp_df[0] > threshold) | (temp_df[0] < (-1 * threshold))]\n",
    "weights = temp_df[0]\n",
    "weights.plot(kind='bar')\n",
    "plt.show()"
   ]
  },
  {
   "cell_type": "code",
   "execution_count": null,
   "metadata": {
    "collapsed": true
   },
   "outputs": [],
   "source": []
  },
  {
   "cell_type": "code",
   "execution_count": null,
   "metadata": {
    "collapsed": true
   },
   "outputs": [],
   "source": []
  },
  {
   "cell_type": "code",
   "execution_count": null,
   "metadata": {
    "collapsed": true
   },
   "outputs": [],
   "source": []
  },
  {
   "cell_type": "code",
   "execution_count": null,
   "metadata": {
    "collapsed": true
   },
   "outputs": [],
   "source": []
  },
  {
   "cell_type": "code",
   "execution_count": null,
   "metadata": {
    "collapsed": true
   },
   "outputs": [],
   "source": []
  },
  {
   "cell_type": "code",
   "execution_count": null,
   "metadata": {
    "collapsed": true
   },
   "outputs": [],
   "source": []
  },
  {
   "cell_type": "code",
   "execution_count": null,
   "metadata": {
    "collapsed": true
   },
   "outputs": [],
   "source": []
  },
  {
   "cell_type": "code",
   "execution_count": null,
   "metadata": {
    "collapsed": true
   },
   "outputs": [],
   "source": []
  },
  {
   "cell_type": "code",
   "execution_count": null,
   "metadata": {
    "collapsed": true
   },
   "outputs": [],
   "source": []
  },
  {
   "cell_type": "code",
   "execution_count": null,
   "metadata": {
    "collapsed": true
   },
   "outputs": [],
   "source": []
  },
  {
   "cell_type": "code",
   "execution_count": null,
   "metadata": {
    "collapsed": true
   },
   "outputs": [],
   "source": []
  },
  {
   "cell_type": "markdown",
   "metadata": {},
   "source": [
    "Advantages of Logistic Regression are: 1) provides various ways to regularize a statistical model to prevent overfitting of the training model. 2) feature correlation is not as important. 3) provides a probabilistic interpretation. 4) allows for a model to be easily updated with new data. 5) can be used when the number of features is large and the training examples are small.\n",
    "\n",
    "Advantages of Support Vector Machines are: 1) offers theoretical guarantees against overfitting the model. 2) can be used when the data is not linearly separable, using the appropriate kernel. 3) can be used when the number of features are smaller than the number of training examples, using the Gaussian or RBF kernel. 4) outperforms at identifying complex data boundaries.  5) generalizes well once the hyperplane is determined."
   ]
  }
 ],
 "metadata": {
  "anaconda-cloud": {},
  "kernelspec": {
   "display_name": "Python [Root]",
   "language": "python",
   "name": "Python [Root]"
  },
  "language_info": {
   "codemirror_mode": {
    "name": "ipython",
    "version": 3
   },
   "file_extension": ".py",
   "mimetype": "text/x-python",
   "name": "python",
   "nbconvert_exporter": "python",
   "pygments_lexer": "ipython3",
   "version": "3.5.2"
  }
 },
 "nbformat": 4,
 "nbformat_minor": 1
}
