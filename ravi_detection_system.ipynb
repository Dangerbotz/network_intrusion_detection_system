{
 "cells": [
  {
   "cell_type": "code",
   "execution_count": 1,
   "metadata": {
    "collapsed": false,
    "scrolled": true
   },
   "outputs": [
    {
     "data": {
      "text/plain": [
       "<bound method DataFrame.transpose of                  dur         spkts         dpkts        sbytes        dbytes  \\\n",
       "count   82332.000000  82332.000000  82332.000000  8.233200e+04  8.233200e+04   \n",
       "unique           NaN           NaN           NaN           NaN           NaN   \n",
       "top              NaN           NaN           NaN           NaN           NaN   \n",
       "freq             NaN           NaN           NaN           NaN           NaN   \n",
       "mean        1.006756     18.666472     17.545936  7.993908e+03  1.323379e+04   \n",
       "std         4.710444    133.916353    115.574086  1.716423e+05  1.514715e+05   \n",
       "min         0.000000      1.000000      0.000000  2.400000e+01  0.000000e+00   \n",
       "25%         0.000008      2.000000      0.000000  1.140000e+02  0.000000e+00   \n",
       "50%         0.014138      6.000000      2.000000  5.340000e+02  1.780000e+02   \n",
       "75%         0.719360     12.000000     10.000000  1.280000e+03  9.560000e+02   \n",
       "max        59.999989  10646.000000  11018.000000  1.435577e+07  1.465753e+07   \n",
       "\n",
       "                rate          sttl          dttl         sload         dload  \\\n",
       "count   8.233200e+04  82332.000000  82332.000000  8.233200e+04  8.233200e+04   \n",
       "unique           NaN           NaN           NaN           NaN           NaN   \n",
       "top              NaN           NaN           NaN           NaN           NaN   \n",
       "freq             NaN           NaN           NaN           NaN           NaN   \n",
       "mean    8.241089e+04    180.967667     95.713003  6.454902e+07  6.305470e+05   \n",
       "std     1.486204e+05    101.513358    116.667722  1.798618e+08  2.393001e+06   \n",
       "min     0.000000e+00      0.000000      0.000000  0.000000e+00  0.000000e+00   \n",
       "25%     2.860611e+01     62.000000      0.000000  1.120247e+04  0.000000e+00   \n",
       "50%     2.650177e+03    254.000000     29.000000  5.770032e+05  2.112951e+03   \n",
       "75%     1.111111e+05    254.000000    252.000000  6.514286e+07  1.585808e+04   \n",
       "max     1.000000e+06    255.000000    253.000000  5.268000e+09  2.082111e+07   \n",
       "\n",
       "            ...       ct_dst_sport_ltm  ct_dst_src_ltm  is_ftp_login  \\\n",
       "count       ...           82332.000000    82332.000000  82332.000000   \n",
       "unique      ...                    NaN             NaN           NaN   \n",
       "top         ...                    NaN             NaN           NaN   \n",
       "freq        ...                    NaN             NaN           NaN   \n",
       "mean        ...               3.663011        7.456360      0.008284   \n",
       "std         ...               5.915386       11.415191      0.091171   \n",
       "min         ...               1.000000        1.000000      0.000000   \n",
       "25%         ...               1.000000        1.000000      0.000000   \n",
       "50%         ...               1.000000        3.000000      0.000000   \n",
       "75%         ...               3.000000        6.000000      0.000000   \n",
       "max         ...              38.000000       63.000000      2.000000   \n",
       "\n",
       "          ct_ftp_cmd  ct_flw_http_mthd    ct_src_ltm    ct_srv_dst  \\\n",
       "count   82332.000000      82332.000000  82332.000000  82332.000000   \n",
       "unique           NaN               NaN           NaN           NaN   \n",
       "top              NaN               NaN           NaN           NaN   \n",
       "freq             NaN               NaN           NaN           NaN   \n",
       "mean        0.008381          0.129743      6.468360      9.164262   \n",
       "std         0.092485          0.638683      8.543927     11.121413   \n",
       "min         0.000000          0.000000      1.000000      1.000000   \n",
       "25%         0.000000          0.000000      1.000000      2.000000   \n",
       "50%         0.000000          0.000000      3.000000      5.000000   \n",
       "75%         0.000000          0.000000      7.000000     11.000000   \n",
       "max         2.000000         16.000000     60.000000     62.000000   \n",
       "\n",
       "        is_sm_ips_ports  attack_cat         label  \n",
       "count      82332.000000       82332  82332.000000  \n",
       "unique              NaN          10           NaN  \n",
       "top                 NaN      Normal           NaN  \n",
       "freq                NaN       37000           NaN  \n",
       "mean           0.011126         NaN      0.550600  \n",
       "std            0.104891         NaN      0.497436  \n",
       "min            0.000000         NaN      0.000000  \n",
       "25%            0.000000         NaN      0.000000  \n",
       "50%            0.000000         NaN      1.000000  \n",
       "75%            0.000000         NaN      1.000000  \n",
       "max            1.000000         NaN      1.000000  \n",
       "\n",
       "[11 rows x 41 columns]>"
      ]
     },
     "execution_count": 1,
     "metadata": {},
     "output_type": "execute_result"
    }
   ],
   "source": [
    "#LOAD\n",
    "import pandas as pd \n",
    "import numpy as np\n",
    "df = pd.read_csv('/Users/RaviSrinivas/GitHub Repo/network_intrusion_detection_system/UNSW_NB15_training_set.csv')\n",
    "df = df.drop('\\xef\\xbb\\xbfid', axis=1)\n",
    "df = df.drop('proto', axis=1)\n",
    "df = df.drop('service', axis=1)\n",
    "df = df.drop('state', axis=1)\n",
    "\n",
    "df.describe(include='all').transpose\n"
   ]
  },
  {
   "cell_type": "code",
   "execution_count": null,
   "metadata": {
    "collapsed": false
   },
   "outputs": [],
   "source": [
    "df.info()"
   ]
  },
  {
   "cell_type": "code",
   "execution_count": 2,
   "metadata": {
    "collapsed": false
   },
   "outputs": [
    {
     "data": {
      "text/html": [
       "<div>\n",
       "<table border=\"1\" class=\"dataframe\">\n",
       "  <thead>\n",
       "    <tr style=\"text-align: right;\">\n",
       "      <th></th>\n",
       "      <th>dur</th>\n",
       "      <th>spkts</th>\n",
       "      <th>dpkts</th>\n",
       "      <th>sbytes</th>\n",
       "      <th>dbytes</th>\n",
       "      <th>rate</th>\n",
       "      <th>sttl</th>\n",
       "      <th>dttl</th>\n",
       "      <th>sload</th>\n",
       "      <th>dload</th>\n",
       "      <th>sloss</th>\n",
       "      <th>dloss</th>\n",
       "      <th>sinpkt</th>\n",
       "      <th>dinpkt</th>\n",
       "      <th>sjit</th>\n",
       "      <th>djit</th>\n",
       "      <th>swin</th>\n",
       "      <th>stcpb</th>\n",
       "      <th>dtcpb</th>\n",
       "      <th>dwin</th>\n",
       "    </tr>\n",
       "  </thead>\n",
       "  <tbody>\n",
       "    <tr>\n",
       "      <th>count</th>\n",
       "      <td>82332.000000</td>\n",
       "      <td>82332.000000</td>\n",
       "      <td>82332.000000</td>\n",
       "      <td>8.233200e+04</td>\n",
       "      <td>8.233200e+04</td>\n",
       "      <td>8.233200e+04</td>\n",
       "      <td>82332.000000</td>\n",
       "      <td>82332.000000</td>\n",
       "      <td>8.233200e+04</td>\n",
       "      <td>8.233200e+04</td>\n",
       "      <td>82332.000000</td>\n",
       "      <td>82332.000000</td>\n",
       "      <td>82332.000000</td>\n",
       "      <td>82332.000000</td>\n",
       "      <td>8.233200e+04</td>\n",
       "      <td>82332.000000</td>\n",
       "      <td>82332.00000</td>\n",
       "      <td>8.233200e+04</td>\n",
       "      <td>8.233200e+04</td>\n",
       "      <td>82332.00000</td>\n",
       "    </tr>\n",
       "    <tr>\n",
       "      <th>mean</th>\n",
       "      <td>1.006756</td>\n",
       "      <td>18.666472</td>\n",
       "      <td>17.545936</td>\n",
       "      <td>7.993908e+03</td>\n",
       "      <td>1.323379e+04</td>\n",
       "      <td>8.241089e+04</td>\n",
       "      <td>180.967667</td>\n",
       "      <td>95.713003</td>\n",
       "      <td>6.454902e+07</td>\n",
       "      <td>6.305470e+05</td>\n",
       "      <td>4.753692</td>\n",
       "      <td>6.308556</td>\n",
       "      <td>755.394301</td>\n",
       "      <td>121.701284</td>\n",
       "      <td>6.363075e+03</td>\n",
       "      <td>535.180430</td>\n",
       "      <td>133.45908</td>\n",
       "      <td>1.084642e+09</td>\n",
       "      <td>1.073465e+09</td>\n",
       "      <td>128.28662</td>\n",
       "    </tr>\n",
       "    <tr>\n",
       "      <th>std</th>\n",
       "      <td>4.710444</td>\n",
       "      <td>133.916353</td>\n",
       "      <td>115.574086</td>\n",
       "      <td>1.716423e+05</td>\n",
       "      <td>1.514715e+05</td>\n",
       "      <td>1.486204e+05</td>\n",
       "      <td>101.513358</td>\n",
       "      <td>116.667722</td>\n",
       "      <td>1.798618e+08</td>\n",
       "      <td>2.393001e+06</td>\n",
       "      <td>64.649620</td>\n",
       "      <td>55.708021</td>\n",
       "      <td>6182.615732</td>\n",
       "      <td>1292.378499</td>\n",
       "      <td>5.672402e+04</td>\n",
       "      <td>3635.305383</td>\n",
       "      <td>127.35700</td>\n",
       "      <td>1.390860e+09</td>\n",
       "      <td>1.381996e+09</td>\n",
       "      <td>127.49137</td>\n",
       "    </tr>\n",
       "    <tr>\n",
       "      <th>min</th>\n",
       "      <td>0.000000</td>\n",
       "      <td>1.000000</td>\n",
       "      <td>0.000000</td>\n",
       "      <td>2.400000e+01</td>\n",
       "      <td>0.000000e+00</td>\n",
       "      <td>0.000000e+00</td>\n",
       "      <td>0.000000</td>\n",
       "      <td>0.000000</td>\n",
       "      <td>0.000000e+00</td>\n",
       "      <td>0.000000e+00</td>\n",
       "      <td>0.000000</td>\n",
       "      <td>0.000000</td>\n",
       "      <td>0.000000</td>\n",
       "      <td>0.000000</td>\n",
       "      <td>0.000000e+00</td>\n",
       "      <td>0.000000</td>\n",
       "      <td>0.00000</td>\n",
       "      <td>0.000000e+00</td>\n",
       "      <td>0.000000e+00</td>\n",
       "      <td>0.00000</td>\n",
       "    </tr>\n",
       "    <tr>\n",
       "      <th>25%</th>\n",
       "      <td>0.000008</td>\n",
       "      <td>2.000000</td>\n",
       "      <td>0.000000</td>\n",
       "      <td>1.140000e+02</td>\n",
       "      <td>0.000000e+00</td>\n",
       "      <td>2.860611e+01</td>\n",
       "      <td>62.000000</td>\n",
       "      <td>0.000000</td>\n",
       "      <td>1.120247e+04</td>\n",
       "      <td>0.000000e+00</td>\n",
       "      <td>0.000000</td>\n",
       "      <td>0.000000</td>\n",
       "      <td>0.008000</td>\n",
       "      <td>0.000000</td>\n",
       "      <td>0.000000e+00</td>\n",
       "      <td>0.000000</td>\n",
       "      <td>0.00000</td>\n",
       "      <td>0.000000e+00</td>\n",
       "      <td>0.000000e+00</td>\n",
       "      <td>0.00000</td>\n",
       "    </tr>\n",
       "    <tr>\n",
       "      <th>50%</th>\n",
       "      <td>0.014138</td>\n",
       "      <td>6.000000</td>\n",
       "      <td>2.000000</td>\n",
       "      <td>5.340000e+02</td>\n",
       "      <td>1.780000e+02</td>\n",
       "      <td>2.650177e+03</td>\n",
       "      <td>254.000000</td>\n",
       "      <td>29.000000</td>\n",
       "      <td>5.770032e+05</td>\n",
       "      <td>2.112951e+03</td>\n",
       "      <td>1.000000</td>\n",
       "      <td>0.000000</td>\n",
       "      <td>0.557928</td>\n",
       "      <td>0.010000</td>\n",
       "      <td>1.762392e+01</td>\n",
       "      <td>0.000000</td>\n",
       "      <td>255.00000</td>\n",
       "      <td>2.788886e+07</td>\n",
       "      <td>2.856975e+07</td>\n",
       "      <td>255.00000</td>\n",
       "    </tr>\n",
       "    <tr>\n",
       "      <th>75%</th>\n",
       "      <td>0.719360</td>\n",
       "      <td>12.000000</td>\n",
       "      <td>10.000000</td>\n",
       "      <td>1.280000e+03</td>\n",
       "      <td>9.560000e+02</td>\n",
       "      <td>1.111111e+05</td>\n",
       "      <td>254.000000</td>\n",
       "      <td>252.000000</td>\n",
       "      <td>6.514286e+07</td>\n",
       "      <td>1.585808e+04</td>\n",
       "      <td>3.000000</td>\n",
       "      <td>2.000000</td>\n",
       "      <td>63.409444</td>\n",
       "      <td>63.136369</td>\n",
       "      <td>3.219332e+03</td>\n",
       "      <td>128.459914</td>\n",
       "      <td>255.00000</td>\n",
       "      <td>2.171310e+09</td>\n",
       "      <td>2.144205e+09</td>\n",
       "      <td>255.00000</td>\n",
       "    </tr>\n",
       "    <tr>\n",
       "      <th>max</th>\n",
       "      <td>59.999989</td>\n",
       "      <td>10646.000000</td>\n",
       "      <td>11018.000000</td>\n",
       "      <td>1.435577e+07</td>\n",
       "      <td>1.465753e+07</td>\n",
       "      <td>1.000000e+06</td>\n",
       "      <td>255.000000</td>\n",
       "      <td>253.000000</td>\n",
       "      <td>5.268000e+09</td>\n",
       "      <td>2.082111e+07</td>\n",
       "      <td>5319.000000</td>\n",
       "      <td>5507.000000</td>\n",
       "      <td>60009.992000</td>\n",
       "      <td>57739.240000</td>\n",
       "      <td>1.483831e+06</td>\n",
       "      <td>463199.240100</td>\n",
       "      <td>255.00000</td>\n",
       "      <td>4.294950e+09</td>\n",
       "      <td>4.294881e+09</td>\n",
       "      <td>255.00000</td>\n",
       "    </tr>\n",
       "  </tbody>\n",
       "</table>\n",
       "</div>"
      ],
      "text/plain": [
       "                dur         spkts         dpkts        sbytes        dbytes  \\\n",
       "count  82332.000000  82332.000000  82332.000000  8.233200e+04  8.233200e+04   \n",
       "mean       1.006756     18.666472     17.545936  7.993908e+03  1.323379e+04   \n",
       "std        4.710444    133.916353    115.574086  1.716423e+05  1.514715e+05   \n",
       "min        0.000000      1.000000      0.000000  2.400000e+01  0.000000e+00   \n",
       "25%        0.000008      2.000000      0.000000  1.140000e+02  0.000000e+00   \n",
       "50%        0.014138      6.000000      2.000000  5.340000e+02  1.780000e+02   \n",
       "75%        0.719360     12.000000     10.000000  1.280000e+03  9.560000e+02   \n",
       "max       59.999989  10646.000000  11018.000000  1.435577e+07  1.465753e+07   \n",
       "\n",
       "               rate          sttl          dttl         sload         dload  \\\n",
       "count  8.233200e+04  82332.000000  82332.000000  8.233200e+04  8.233200e+04   \n",
       "mean   8.241089e+04    180.967667     95.713003  6.454902e+07  6.305470e+05   \n",
       "std    1.486204e+05    101.513358    116.667722  1.798618e+08  2.393001e+06   \n",
       "min    0.000000e+00      0.000000      0.000000  0.000000e+00  0.000000e+00   \n",
       "25%    2.860611e+01     62.000000      0.000000  1.120247e+04  0.000000e+00   \n",
       "50%    2.650177e+03    254.000000     29.000000  5.770032e+05  2.112951e+03   \n",
       "75%    1.111111e+05    254.000000    252.000000  6.514286e+07  1.585808e+04   \n",
       "max    1.000000e+06    255.000000    253.000000  5.268000e+09  2.082111e+07   \n",
       "\n",
       "              sloss         dloss        sinpkt        dinpkt          sjit  \\\n",
       "count  82332.000000  82332.000000  82332.000000  82332.000000  8.233200e+04   \n",
       "mean       4.753692      6.308556    755.394301    121.701284  6.363075e+03   \n",
       "std       64.649620     55.708021   6182.615732   1292.378499  5.672402e+04   \n",
       "min        0.000000      0.000000      0.000000      0.000000  0.000000e+00   \n",
       "25%        0.000000      0.000000      0.008000      0.000000  0.000000e+00   \n",
       "50%        1.000000      0.000000      0.557928      0.010000  1.762392e+01   \n",
       "75%        3.000000      2.000000     63.409444     63.136369  3.219332e+03   \n",
       "max     5319.000000   5507.000000  60009.992000  57739.240000  1.483831e+06   \n",
       "\n",
       "                djit         swin         stcpb         dtcpb         dwin  \n",
       "count   82332.000000  82332.00000  8.233200e+04  8.233200e+04  82332.00000  \n",
       "mean      535.180430    133.45908  1.084642e+09  1.073465e+09    128.28662  \n",
       "std      3635.305383    127.35700  1.390860e+09  1.381996e+09    127.49137  \n",
       "min         0.000000      0.00000  0.000000e+00  0.000000e+00      0.00000  \n",
       "25%         0.000000      0.00000  0.000000e+00  0.000000e+00      0.00000  \n",
       "50%         0.000000    255.00000  2.788886e+07  2.856975e+07    255.00000  \n",
       "75%       128.459914    255.00000  2.171310e+09  2.144205e+09    255.00000  \n",
       "max    463199.240100    255.00000  4.294950e+09  4.294881e+09    255.00000  "
      ]
     },
     "execution_count": 2,
     "metadata": {},
     "output_type": "execute_result"
    }
   ],
   "source": [
    "\n",
    "df1 = df.drop(df.columns[[20,21,\t22,\t23,\t24,\t25,\t26,\t27,\t28,\t29,\t30,\t31,\t32,33,34,35,36,37,38,39,40]], axis=1)\n",
    "df1.describe()\n"
   ]
  },
  {
   "cell_type": "code",
   "execution_count": 3,
   "metadata": {
    "collapsed": false
   },
   "outputs": [
    {
     "data": {
      "text/html": [
       "<div>\n",
       "<table border=\"1\" class=\"dataframe\">\n",
       "  <thead>\n",
       "    <tr style=\"text-align: right;\">\n",
       "      <th></th>\n",
       "      <th>tcprtt</th>\n",
       "      <th>synack</th>\n",
       "      <th>ackdat</th>\n",
       "      <th>smean</th>\n",
       "      <th>dmean</th>\n",
       "      <th>trans_depth</th>\n",
       "      <th>response_body_len</th>\n",
       "      <th>ct_srv_src</th>\n",
       "      <th>ct_state_ttl</th>\n",
       "      <th>ct_dst_ltm</th>\n",
       "      <th>ct_src_dport_ltm</th>\n",
       "      <th>ct_dst_sport_ltm</th>\n",
       "      <th>ct_dst_src_ltm</th>\n",
       "      <th>is_ftp_login</th>\n",
       "      <th>ct_ftp_cmd</th>\n",
       "      <th>ct_flw_http_mthd</th>\n",
       "      <th>ct_src_ltm</th>\n",
       "      <th>ct_srv_dst</th>\n",
       "      <th>is_sm_ips_ports</th>\n",
       "      <th>label</th>\n",
       "    </tr>\n",
       "  </thead>\n",
       "  <tbody>\n",
       "    <tr>\n",
       "      <th>count</th>\n",
       "      <td>82332.000000</td>\n",
       "      <td>82332.000000</td>\n",
       "      <td>82332.000000</td>\n",
       "      <td>82332.000000</td>\n",
       "      <td>82332.000000</td>\n",
       "      <td>82332.000000</td>\n",
       "      <td>8.233200e+04</td>\n",
       "      <td>82332.000000</td>\n",
       "      <td>82332.000000</td>\n",
       "      <td>82332.000000</td>\n",
       "      <td>82332.000000</td>\n",
       "      <td>82332.000000</td>\n",
       "      <td>82332.000000</td>\n",
       "      <td>82332.000000</td>\n",
       "      <td>82332.000000</td>\n",
       "      <td>82332.000000</td>\n",
       "      <td>82332.000000</td>\n",
       "      <td>82332.000000</td>\n",
       "      <td>82332.000000</td>\n",
       "      <td>82332.000000</td>\n",
       "    </tr>\n",
       "    <tr>\n",
       "      <th>mean</th>\n",
       "      <td>0.055925</td>\n",
       "      <td>0.029256</td>\n",
       "      <td>0.026669</td>\n",
       "      <td>139.528604</td>\n",
       "      <td>116.275069</td>\n",
       "      <td>0.094277</td>\n",
       "      <td>1.595372e+03</td>\n",
       "      <td>9.546604</td>\n",
       "      <td>1.369273</td>\n",
       "      <td>5.744923</td>\n",
       "      <td>4.928898</td>\n",
       "      <td>3.663011</td>\n",
       "      <td>7.456360</td>\n",
       "      <td>0.008284</td>\n",
       "      <td>0.008381</td>\n",
       "      <td>0.129743</td>\n",
       "      <td>6.468360</td>\n",
       "      <td>9.164262</td>\n",
       "      <td>0.011126</td>\n",
       "      <td>0.550600</td>\n",
       "    </tr>\n",
       "    <tr>\n",
       "      <th>std</th>\n",
       "      <td>0.116022</td>\n",
       "      <td>0.070854</td>\n",
       "      <td>0.055094</td>\n",
       "      <td>208.472063</td>\n",
       "      <td>244.600271</td>\n",
       "      <td>0.542922</td>\n",
       "      <td>3.806697e+04</td>\n",
       "      <td>11.090289</td>\n",
       "      <td>1.067188</td>\n",
       "      <td>8.418112</td>\n",
       "      <td>8.389545</td>\n",
       "      <td>5.915386</td>\n",
       "      <td>11.415191</td>\n",
       "      <td>0.091171</td>\n",
       "      <td>0.092485</td>\n",
       "      <td>0.638683</td>\n",
       "      <td>8.543927</td>\n",
       "      <td>11.121413</td>\n",
       "      <td>0.104891</td>\n",
       "      <td>0.497436</td>\n",
       "    </tr>\n",
       "    <tr>\n",
       "      <th>min</th>\n",
       "      <td>0.000000</td>\n",
       "      <td>0.000000</td>\n",
       "      <td>0.000000</td>\n",
       "      <td>24.000000</td>\n",
       "      <td>0.000000</td>\n",
       "      <td>0.000000</td>\n",
       "      <td>0.000000e+00</td>\n",
       "      <td>1.000000</td>\n",
       "      <td>0.000000</td>\n",
       "      <td>1.000000</td>\n",
       "      <td>1.000000</td>\n",
       "      <td>1.000000</td>\n",
       "      <td>1.000000</td>\n",
       "      <td>0.000000</td>\n",
       "      <td>0.000000</td>\n",
       "      <td>0.000000</td>\n",
       "      <td>1.000000</td>\n",
       "      <td>1.000000</td>\n",
       "      <td>0.000000</td>\n",
       "      <td>0.000000</td>\n",
       "    </tr>\n",
       "    <tr>\n",
       "      <th>25%</th>\n",
       "      <td>0.000000</td>\n",
       "      <td>0.000000</td>\n",
       "      <td>0.000000</td>\n",
       "      <td>57.000000</td>\n",
       "      <td>0.000000</td>\n",
       "      <td>0.000000</td>\n",
       "      <td>0.000000e+00</td>\n",
       "      <td>2.000000</td>\n",
       "      <td>1.000000</td>\n",
       "      <td>1.000000</td>\n",
       "      <td>1.000000</td>\n",
       "      <td>1.000000</td>\n",
       "      <td>1.000000</td>\n",
       "      <td>0.000000</td>\n",
       "      <td>0.000000</td>\n",
       "      <td>0.000000</td>\n",
       "      <td>1.000000</td>\n",
       "      <td>2.000000</td>\n",
       "      <td>0.000000</td>\n",
       "      <td>0.000000</td>\n",
       "    </tr>\n",
       "    <tr>\n",
       "      <th>50%</th>\n",
       "      <td>0.000551</td>\n",
       "      <td>0.000441</td>\n",
       "      <td>0.000080</td>\n",
       "      <td>65.000000</td>\n",
       "      <td>44.000000</td>\n",
       "      <td>0.000000</td>\n",
       "      <td>0.000000e+00</td>\n",
       "      <td>5.000000</td>\n",
       "      <td>1.000000</td>\n",
       "      <td>2.000000</td>\n",
       "      <td>1.000000</td>\n",
       "      <td>1.000000</td>\n",
       "      <td>3.000000</td>\n",
       "      <td>0.000000</td>\n",
       "      <td>0.000000</td>\n",
       "      <td>0.000000</td>\n",
       "      <td>3.000000</td>\n",
       "      <td>5.000000</td>\n",
       "      <td>0.000000</td>\n",
       "      <td>1.000000</td>\n",
       "    </tr>\n",
       "    <tr>\n",
       "      <th>75%</th>\n",
       "      <td>0.105541</td>\n",
       "      <td>0.052595</td>\n",
       "      <td>0.048816</td>\n",
       "      <td>100.000000</td>\n",
       "      <td>87.000000</td>\n",
       "      <td>0.000000</td>\n",
       "      <td>0.000000e+00</td>\n",
       "      <td>11.000000</td>\n",
       "      <td>2.000000</td>\n",
       "      <td>6.000000</td>\n",
       "      <td>4.000000</td>\n",
       "      <td>3.000000</td>\n",
       "      <td>6.000000</td>\n",
       "      <td>0.000000</td>\n",
       "      <td>0.000000</td>\n",
       "      <td>0.000000</td>\n",
       "      <td>7.000000</td>\n",
       "      <td>11.000000</td>\n",
       "      <td>0.000000</td>\n",
       "      <td>1.000000</td>\n",
       "    </tr>\n",
       "    <tr>\n",
       "      <th>max</th>\n",
       "      <td>3.821465</td>\n",
       "      <td>3.226788</td>\n",
       "      <td>2.928778</td>\n",
       "      <td>1504.000000</td>\n",
       "      <td>1500.000000</td>\n",
       "      <td>131.000000</td>\n",
       "      <td>5.242880e+06</td>\n",
       "      <td>63.000000</td>\n",
       "      <td>6.000000</td>\n",
       "      <td>59.000000</td>\n",
       "      <td>59.000000</td>\n",
       "      <td>38.000000</td>\n",
       "      <td>63.000000</td>\n",
       "      <td>2.000000</td>\n",
       "      <td>2.000000</td>\n",
       "      <td>16.000000</td>\n",
       "      <td>60.000000</td>\n",
       "      <td>62.000000</td>\n",
       "      <td>1.000000</td>\n",
       "      <td>1.000000</td>\n",
       "    </tr>\n",
       "  </tbody>\n",
       "</table>\n",
       "</div>"
      ],
      "text/plain": [
       "             tcprtt        synack        ackdat         smean         dmean  \\\n",
       "count  82332.000000  82332.000000  82332.000000  82332.000000  82332.000000   \n",
       "mean       0.055925      0.029256      0.026669    139.528604    116.275069   \n",
       "std        0.116022      0.070854      0.055094    208.472063    244.600271   \n",
       "min        0.000000      0.000000      0.000000     24.000000      0.000000   \n",
       "25%        0.000000      0.000000      0.000000     57.000000      0.000000   \n",
       "50%        0.000551      0.000441      0.000080     65.000000     44.000000   \n",
       "75%        0.105541      0.052595      0.048816    100.000000     87.000000   \n",
       "max        3.821465      3.226788      2.928778   1504.000000   1500.000000   \n",
       "\n",
       "        trans_depth  response_body_len    ct_srv_src  ct_state_ttl  \\\n",
       "count  82332.000000       8.233200e+04  82332.000000  82332.000000   \n",
       "mean       0.094277       1.595372e+03      9.546604      1.369273   \n",
       "std        0.542922       3.806697e+04     11.090289      1.067188   \n",
       "min        0.000000       0.000000e+00      1.000000      0.000000   \n",
       "25%        0.000000       0.000000e+00      2.000000      1.000000   \n",
       "50%        0.000000       0.000000e+00      5.000000      1.000000   \n",
       "75%        0.000000       0.000000e+00     11.000000      2.000000   \n",
       "max      131.000000       5.242880e+06     63.000000      6.000000   \n",
       "\n",
       "         ct_dst_ltm  ct_src_dport_ltm  ct_dst_sport_ltm  ct_dst_src_ltm  \\\n",
       "count  82332.000000      82332.000000      82332.000000    82332.000000   \n",
       "mean       5.744923          4.928898          3.663011        7.456360   \n",
       "std        8.418112          8.389545          5.915386       11.415191   \n",
       "min        1.000000          1.000000          1.000000        1.000000   \n",
       "25%        1.000000          1.000000          1.000000        1.000000   \n",
       "50%        2.000000          1.000000          1.000000        3.000000   \n",
       "75%        6.000000          4.000000          3.000000        6.000000   \n",
       "max       59.000000         59.000000         38.000000       63.000000   \n",
       "\n",
       "       is_ftp_login    ct_ftp_cmd  ct_flw_http_mthd    ct_src_ltm  \\\n",
       "count  82332.000000  82332.000000      82332.000000  82332.000000   \n",
       "mean       0.008284      0.008381          0.129743      6.468360   \n",
       "std        0.091171      0.092485          0.638683      8.543927   \n",
       "min        0.000000      0.000000          0.000000      1.000000   \n",
       "25%        0.000000      0.000000          0.000000      1.000000   \n",
       "50%        0.000000      0.000000          0.000000      3.000000   \n",
       "75%        0.000000      0.000000          0.000000      7.000000   \n",
       "max        2.000000      2.000000         16.000000     60.000000   \n",
       "\n",
       "         ct_srv_dst  is_sm_ips_ports         label  \n",
       "count  82332.000000     82332.000000  82332.000000  \n",
       "mean       9.164262         0.011126      0.550600  \n",
       "std       11.121413         0.104891      0.497436  \n",
       "min        1.000000         0.000000      0.000000  \n",
       "25%        2.000000         0.000000      0.000000  \n",
       "50%        5.000000         0.000000      1.000000  \n",
       "75%       11.000000         0.000000      1.000000  \n",
       "max       62.000000         1.000000      1.000000  "
      ]
     },
     "execution_count": 3,
     "metadata": {},
     "output_type": "execute_result"
    }
   ],
   "source": [
    "df2 = df.drop(df.columns[[0,1,\t2,\t3,\t4,\t5,\t6,\t7,\t8,\t9,\t10,\t11,\t12,\t13,\t14, 15, 16,17,18,19,]], axis=1)\n",
    "df2.describe()"
   ]
  },
  {
   "cell_type": "code",
<<<<<<< Updated upstream
   "execution_count": 4,
   "metadata": {
    "collapsed": false
   },
   "outputs": [
    {
     "data": {
      "text/plain": [
       "1.1538648399164357"
      ]
     },
     "execution_count": 4,
     "metadata": {},
     "output_type": "execute_result"
    }
   ],
=======
   "execution_count": null,
   "metadata": {
    "collapsed": false
   },
   "outputs": [],
>>>>>>> Stashed changes
   "source": [
    "#percentage of duration per attack\n",
    "float(len(df[df.dur==0]))/len(df)*100.0\n",
    "\n"
   ]
  },
  {
   "cell_type": "code",
   "execution_count": 5,
   "metadata": {
    "collapsed": false,
    "scrolled": true
   },
   "outputs": [
    {
     "data": {
      "text/plain": [
       "0.0"
      ]
     },
     "execution_count": 5,
     "metadata": {},
     "output_type": "execute_result"
    }
   ],
   "source": [
    "#percentage of smean per attack\n",
    "float(len(df[df.smean==0]))/len(df)*100.0\n"
   ]
  },
  {
   "cell_type": "code",
<<<<<<< Updated upstream
   "execution_count": 6,
   "metadata": {
    "collapsed": false
   },
   "outputs": [
    {
     "data": {
      "text/plain": [
       "43.73269202740126"
      ]
     },
     "execution_count": 6,
     "metadata": {},
     "output_type": "execute_result"
    }
   ],
=======
   "execution_count": null,
   "metadata": {
    "collapsed": false
   },
   "outputs": [],
>>>>>>> Stashed changes
   "source": [
    "#percentage of dmean per attack\n",
    "float(len(df[df.dmean==0]))/len(df)*100.0"
   ]
  },
  {
   "cell_type": "code",
<<<<<<< Updated upstream
   "execution_count": 41,
=======
   "execution_count": null,
>>>>>>> Stashed changes
   "metadata": {
    "collapsed": false
   },
   "outputs": [
    {
     "data": {
      "image/png": "iVBORw0KGgoAAAANSUhEUgAAAY0AAAEACAYAAABPiSrXAAAABHNCSVQICAgIfAhkiAAAAAlwSFlz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\nQmCC\n",
      "text/plain": [
       "<matplotlib.figure.Figure at 0xb333290>"
      ]
     },
     "metadata": {},
     "output_type": "display_data"
    }
   ],
   "source": [
    "#'dur' Box Plot\n",
    "import matplotlib.pyplot as plt\n",
<<<<<<< Updated upstream
    "%matplotlib inline\n",
    "plt.boxplot(x=[df.dur, df.rate], labels=['dur', 'rate'])\n",
    "plt.show()\n"
=======
    "plt.boxplot(df.dur)\n",
    "plt.show()"
>>>>>>> Stashed changes
   ]
  },
  {
   "cell_type": "code",
   "execution_count": null,
   "metadata": {
    "collapsed": false
   },
   "outputs": [],
   "source": []
  },
  {
   "cell_type": "code",
   "execution_count": 43,
   "metadata": {
    "collapsed": false
   },
   "outputs": [
    {
     "data": {
      "image/png": "iVBORw0KGgoAAAANSUhEUgAAAXQAAAEACAYAAACj0I2EAAAABHNCSVQICAgIfAhkiAAAAAlwSFlz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\nB5iUAyEJqUAWAAAAAElFTkSuQmCC\n",
      "text/plain": [
       "<matplotlib.figure.Figure at 0x801d830>"
      ]
     },
     "metadata": {},
     "output_type": "display_data"
    }
   ],
   "source": [
    "#'sttl' Box Plot\n",
    "plt.boxplot(x=[df.sttl, df.dttl], labels=['sttl', 'dttl'])\n",
    "plt.show()"
   ]
  },
  {
   "cell_type": "code",
   "execution_count": 44,
   "metadata": {
    "collapsed": false
   },
   "outputs": [
    {
     "data": {
      "image/png": "iVBORw0KGgoAAAANSUhEUgAAAXQAAAEACAYAAACj0I2EAAAABHNCSVQICAgIfAhkiAAAAAlwSFlz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\n",
      "text/plain": [
       "<matplotlib.figure.Figure at 0xb21ced0>"
      ]
     },
     "metadata": {},
     "output_type": "display_data"
    }
   ],
   "source": [
    "#'swin & dwin' Box Plot\n",
    "plt.boxplot(x=[df.swin, df.dwin], labels=[ 'swin','dwin'])\n",
    "plt.show()"
   ]
  },
  {
   "cell_type": "code",
   "execution_count": 45,
   "metadata": {
    "collapsed": false
   },
   "outputs": [
    {
     "data": {
      "image/png": "iVBORw0KGgoAAAANSUhEUgAAAW0AAAEBCAYAAACzN/QDAAAABHNCSVQICAgIfAhkiAAAAAlwSFlz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\n0gOBSgHdAAAAAElFTkSuQmCC\n",
      "text/plain": [
       "<matplotlib.figure.Figure at 0xad51df0>"
      ]
     },
     "metadata": {},
     "output_type": "display_data"
    }
   ],
   "source": [
<<<<<<< Updated upstream
    "#'ct_src_dport_ltm' & 'ct_dst_sport_ltm' Box Plot\n",
    "plt.boxplot(x=[df.ct_src_dport_ltm,df.ct_dst_sport_ltm], labels=['ct_src_dport_ltm','ct_dst_sport_ltm'])\n",
    "plt.show()\n"
=======
    "\n"
>>>>>>> Stashed changes
   ]
  },
  {
   "cell_type": "code",
   "execution_count": null,
   "metadata": {
    "collapsed": false
   },
   "outputs": [],
   "source": []
  },
  {
   "cell_type": "code",
   "execution_count": null,
   "metadata": {
    "collapsed": false,
    "scrolled": true
   },
   "outputs": [],
   "source": []
  },
  {
   "cell_type": "code",
   "execution_count": null,
   "metadata": {
    "collapsed": false
   },
   "outputs": [],
   "source": []
  },
  {
   "cell_type": "code",
   "execution_count": null,
   "metadata": {
    "collapsed": true
   },
   "outputs": [],
   "source": []
  }
 ],
 "metadata": {
  "anaconda-cloud": {},
  "kernelspec": {
   "display_name": "Python [Root]",
   "language": "python",
   "name": "Python [Root]"
  },
  "language_info": {
   "codemirror_mode": {
    "name": "ipython",
    "version": 2
   },
   "file_extension": ".py",
   "mimetype": "text/x-python",
   "name": "python",
   "nbconvert_exporter": "python",
   "pygments_lexer": "ipython2",
   "version": "2.7.12"
  }
 },
 "nbformat": 4,
 "nbformat_minor": 0
}
